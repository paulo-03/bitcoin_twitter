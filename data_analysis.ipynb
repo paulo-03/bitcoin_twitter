{
 "cells": [
  {
   "metadata": {},
   "cell_type": "markdown",
   "source": [
    "# Data Analysis\n",
    "\n",
    "This notebook allows to gain insight in both used dataset `tweet.zip` and `BTC-TUSD.parquet`."
   ],
   "id": "764dd5516401700b"
  },
  {
   "metadata": {
    "ExecuteTime": {
     "end_time": "2024-11-27T15:54:06.891761Z",
     "start_time": "2024-11-27T15:54:05.196677Z"
    }
   },
   "cell_type": "code",
   "source": [
    "from data_analysis import TweetsAnalyzer, BTCAnalyzer\n",
    "\n",
    "%load_ext autoreload\n",
    "%autoreload 2"
   ],
   "id": "24034e41a3437cbd",
   "outputs": [],
   "execution_count": 1
  },
  {
   "metadata": {},
   "cell_type": "markdown",
   "source": [
    "## BTC\n",
    "\n",
    "We start by looking at the `BTC-TUSD.parquet` dataset. First we load the file."
   ],
   "id": "70f9061aa59929e0"
  },
  {
   "metadata": {
    "ExecuteTime": {
     "end_time": "2024-11-27T15:54:06.946540Z",
     "start_time": "2024-11-27T15:54:06.902347Z"
    }
   },
   "cell_type": "code",
   "source": "...",
   "id": "dcf66988234abde8",
   "outputs": [
    {
     "data": {
      "text/plain": [
       "Ellipsis"
      ]
     },
     "execution_count": 2,
     "metadata": {},
     "output_type": "execute_result"
    }
   ],
   "execution_count": 2
  },
  {
   "metadata": {},
   "cell_type": "markdown",
   "source": "We can now plot the whole dataset.",
   "id": "ee89c4cc651cbe1d"
  },
  {
   "metadata": {
    "ExecuteTime": {
     "end_time": "2024-11-27T15:54:07.974419Z",
     "start_time": "2024-11-27T15:54:07.026786Z"
    }
   },
   "cell_type": "code",
   "source": "...",
   "id": "c7ac3ed3175e8243",
   "outputs": [
    {
     "data": {
      "text/plain": [
       "Ellipsis"
      ]
     },
     "execution_count": 3,
     "metadata": {},
     "output_type": "execute_result"
    }
   ],
   "execution_count": 3
  },
  {
   "metadata": {},
   "cell_type": "markdown",
   "source": "Since we are making our analysis in a specific time window, we need to chunk the dataset to only keep the wanted information.",
   "id": "f104b7d9dc85385b"
  },
  {
   "metadata": {
    "ExecuteTime": {
     "end_time": "2024-11-27T15:54:08.818185Z",
     "start_time": "2024-11-27T15:54:08.779240Z"
    }
   },
   "cell_type": "code",
   "source": "...",
   "id": "b8c8dca327335044",
   "outputs": [
    {
     "data": {
      "text/plain": [
       "Ellipsis"
      ]
     },
     "execution_count": 4,
     "metadata": {},
     "output_type": "execute_result"
    }
   ],
   "execution_count": 4
  },
  {
   "metadata": {},
   "cell_type": "markdown",
   "source": [
    "## Tweets\n",
    "\n",
    "We can now have a look at the `tweets.zip` file."
   ],
   "id": "413531e887a5eda9"
  },
  {
   "metadata": {
    "ExecuteTime": {
     "end_time": "2024-11-27T15:56:24.322946Z",
     "start_time": "2024-11-27T15:54:08.847599Z"
    }
   },
   "cell_type": "code",
   "source": "tweets = TweetsAnalyzer(file_path='data/tweets.zip')",
   "id": "49c091b72dbc574",
   "outputs": [
    {
     "name": "stderr",
     "output_type": "stream",
     "text": [
      "17chunks [02:15,  7.96s/chunks]                    \n"
     ]
    }
   ],
   "execution_count": 5
  },
  {
   "metadata": {
    "ExecuteTime": {
     "end_time": "2024-11-27T15:56:24.464968Z",
     "start_time": "2024-11-27T15:56:24.402957Z"
    }
   },
   "cell_type": "code",
   "source": "tweets.data",
   "id": "6084f763de326aa1",
   "outputs": [
    {
     "data": {
      "text/plain": [
       "                    id             user              fullname  url  \\\n",
       "0         1.132977e+18     KamdemAbdiel         Abdiel kamdem  NaN   \n",
       "1         1.132977e+18        bitcointe             Bitcointe  NaN   \n",
       "2         1.132977e+18        3eyedbran   Bran - 3 Eyed Raven  NaN   \n",
       "3         1.132977e+18    DetroitCrypto           J. Scardina  NaN   \n",
       "4         1.132977e+18     mmursaleen72    Muhammad Mursaleen  NaN   \n",
       "...                ...              ...                   ...  ...   \n",
       "16889760  1.198262e+18    JacobCanfield        Jacob Canfield  NaN   \n",
       "16889761  1.198266e+18          Vizique               Vizique  NaN   \n",
       "16889762  1.198266e+18         torusJKL  Gal Buki ($torusJKL)  NaN   \n",
       "16889763  1.198266e+18  Adekunl95628158       Adekunle Daniel  NaN   \n",
       "16889764  1.198266e+18       HaraldoXRP                 Harry  NaN   \n",
       "\n",
       "                       timestamp  replies  likes  retweets  \\\n",
       "0         2019-05-27 11:49:14+00        0      0         0   \n",
       "1         2019-05-27 11:49:18+00        0      0         0   \n",
       "2         2019-05-27 11:49:06+00        0      2         1   \n",
       "3         2019-05-27 11:49:22+00        0      0         0   \n",
       "4         2019-05-27 11:49:23+00        0      0         0   \n",
       "...                          ...      ...    ...       ...   \n",
       "16889760  2019-11-23 15:28:50+00        2     16         3   \n",
       "16889761  2019-11-23 15:45:55+00        0      0         0   \n",
       "16889762  2019-11-23 15:45:56+00        0      0         0   \n",
       "16889763  2019-11-23 15:45:57+00        0      0         0   \n",
       "16889764  2019-11-23 15:45:06+00        0      2         1   \n",
       "\n",
       "                                                     text\\r  \n",
       "0         È appena uscito un nuovo video! LES CRYPTOMONN...  \n",
       "1         Cardano: Digitize Currencies; EOS https://t.co...  \n",
       "2         Another Test tweet that wasn't caught in the s...  \n",
       "3         Current Crypto Prices! \\n\\nBTC: $8721.99 USD\\n...  \n",
       "4         Spiv (Nosar Baz): BITCOIN Is An Asset &amp; NO...  \n",
       "...                                                     ...  \n",
       "16889760  Happy #FibonacciDay \\n\\nA while back I created...  \n",
       "16889761  Bitcoin Suisse Certificates :) https://t.co/nd...  \n",
       "16889762  Register now for the early access of the Codug...  \n",
       "16889763  @btc \\n@btc \\nDo you know that BTC Baskets isn...  \n",
       "16889764  $BTC - an update on the longer term view for B...  \n",
       "\n",
       "[16889765 rows x 9 columns]"
      ],
      "text/html": [
       "<div>\n",
       "<style scoped>\n",
       "    .dataframe tbody tr th:only-of-type {\n",
       "        vertical-align: middle;\n",
       "    }\n",
       "\n",
       "    .dataframe tbody tr th {\n",
       "        vertical-align: top;\n",
       "    }\n",
       "\n",
       "    .dataframe thead th {\n",
       "        text-align: right;\n",
       "    }\n",
       "</style>\n",
       "<table border=\"1\" class=\"dataframe\">\n",
       "  <thead>\n",
       "    <tr style=\"text-align: right;\">\n",
       "      <th></th>\n",
       "      <th>id</th>\n",
       "      <th>user</th>\n",
       "      <th>fullname</th>\n",
       "      <th>url</th>\n",
       "      <th>timestamp</th>\n",
       "      <th>replies</th>\n",
       "      <th>likes</th>\n",
       "      <th>retweets</th>\n",
       "      <th>text\\r</th>\n",
       "    </tr>\n",
       "  </thead>\n",
       "  <tbody>\n",
       "    <tr>\n",
       "      <th>0</th>\n",
       "      <td>1.132977e+18</td>\n",
       "      <td>KamdemAbdiel</td>\n",
       "      <td>Abdiel kamdem</td>\n",
       "      <td>NaN</td>\n",
       "      <td>2019-05-27 11:49:14+00</td>\n",
       "      <td>0</td>\n",
       "      <td>0</td>\n",
       "      <td>0</td>\n",
       "      <td>È appena uscito un nuovo video! LES CRYPTOMONN...</td>\n",
       "    </tr>\n",
       "    <tr>\n",
       "      <th>1</th>\n",
       "      <td>1.132977e+18</td>\n",
       "      <td>bitcointe</td>\n",
       "      <td>Bitcointe</td>\n",
       "      <td>NaN</td>\n",
       "      <td>2019-05-27 11:49:18+00</td>\n",
       "      <td>0</td>\n",
       "      <td>0</td>\n",
       "      <td>0</td>\n",
       "      <td>Cardano: Digitize Currencies; EOS https://t.co...</td>\n",
       "    </tr>\n",
       "    <tr>\n",
       "      <th>2</th>\n",
       "      <td>1.132977e+18</td>\n",
       "      <td>3eyedbran</td>\n",
       "      <td>Bran - 3 Eyed Raven</td>\n",
       "      <td>NaN</td>\n",
       "      <td>2019-05-27 11:49:06+00</td>\n",
       "      <td>0</td>\n",
       "      <td>2</td>\n",
       "      <td>1</td>\n",
       "      <td>Another Test tweet that wasn't caught in the s...</td>\n",
       "    </tr>\n",
       "    <tr>\n",
       "      <th>3</th>\n",
       "      <td>1.132977e+18</td>\n",
       "      <td>DetroitCrypto</td>\n",
       "      <td>J. Scardina</td>\n",
       "      <td>NaN</td>\n",
       "      <td>2019-05-27 11:49:22+00</td>\n",
       "      <td>0</td>\n",
       "      <td>0</td>\n",
       "      <td>0</td>\n",
       "      <td>Current Crypto Prices! \\n\\nBTC: $8721.99 USD\\n...</td>\n",
       "    </tr>\n",
       "    <tr>\n",
       "      <th>4</th>\n",
       "      <td>1.132977e+18</td>\n",
       "      <td>mmursaleen72</td>\n",
       "      <td>Muhammad Mursaleen</td>\n",
       "      <td>NaN</td>\n",
       "      <td>2019-05-27 11:49:23+00</td>\n",
       "      <td>0</td>\n",
       "      <td>0</td>\n",
       "      <td>0</td>\n",
       "      <td>Spiv (Nosar Baz): BITCOIN Is An Asset &amp;amp; NO...</td>\n",
       "    </tr>\n",
       "    <tr>\n",
       "      <th>...</th>\n",
       "      <td>...</td>\n",
       "      <td>...</td>\n",
       "      <td>...</td>\n",
       "      <td>...</td>\n",
       "      <td>...</td>\n",
       "      <td>...</td>\n",
       "      <td>...</td>\n",
       "      <td>...</td>\n",
       "      <td>...</td>\n",
       "    </tr>\n",
       "    <tr>\n",
       "      <th>16889760</th>\n",
       "      <td>1.198262e+18</td>\n",
       "      <td>JacobCanfield</td>\n",
       "      <td>Jacob Canfield</td>\n",
       "      <td>NaN</td>\n",
       "      <td>2019-11-23 15:28:50+00</td>\n",
       "      <td>2</td>\n",
       "      <td>16</td>\n",
       "      <td>3</td>\n",
       "      <td>Happy #FibonacciDay \\n\\nA while back I created...</td>\n",
       "    </tr>\n",
       "    <tr>\n",
       "      <th>16889761</th>\n",
       "      <td>1.198266e+18</td>\n",
       "      <td>Vizique</td>\n",
       "      <td>Vizique</td>\n",
       "      <td>NaN</td>\n",
       "      <td>2019-11-23 15:45:55+00</td>\n",
       "      <td>0</td>\n",
       "      <td>0</td>\n",
       "      <td>0</td>\n",
       "      <td>Bitcoin Suisse Certificates :) https://t.co/nd...</td>\n",
       "    </tr>\n",
       "    <tr>\n",
       "      <th>16889762</th>\n",
       "      <td>1.198266e+18</td>\n",
       "      <td>torusJKL</td>\n",
       "      <td>Gal Buki ($torusJKL)</td>\n",
       "      <td>NaN</td>\n",
       "      <td>2019-11-23 15:45:56+00</td>\n",
       "      <td>0</td>\n",
       "      <td>0</td>\n",
       "      <td>0</td>\n",
       "      <td>Register now for the early access of the Codug...</td>\n",
       "    </tr>\n",
       "    <tr>\n",
       "      <th>16889763</th>\n",
       "      <td>1.198266e+18</td>\n",
       "      <td>Adekunl95628158</td>\n",
       "      <td>Adekunle Daniel</td>\n",
       "      <td>NaN</td>\n",
       "      <td>2019-11-23 15:45:57+00</td>\n",
       "      <td>0</td>\n",
       "      <td>0</td>\n",
       "      <td>0</td>\n",
       "      <td>@btc \\n@btc \\nDo you know that BTC Baskets isn...</td>\n",
       "    </tr>\n",
       "    <tr>\n",
       "      <th>16889764</th>\n",
       "      <td>1.198266e+18</td>\n",
       "      <td>HaraldoXRP</td>\n",
       "      <td>Harry</td>\n",
       "      <td>NaN</td>\n",
       "      <td>2019-11-23 15:45:06+00</td>\n",
       "      <td>0</td>\n",
       "      <td>2</td>\n",
       "      <td>1</td>\n",
       "      <td>$BTC - an update on the longer term view for B...</td>\n",
       "    </tr>\n",
       "  </tbody>\n",
       "</table>\n",
       "<p>16889765 rows × 9 columns</p>\n",
       "</div>"
      ]
     },
     "execution_count": 6,
     "metadata": {},
     "output_type": "execute_result"
    }
   ],
   "execution_count": 6
  },
  {
   "metadata": {
    "ExecuteTime": {
     "end_time": "2024-11-27T15:57:04.817515Z",
     "start_time": "2024-11-27T15:56:24.564864Z"
    }
   },
   "cell_type": "code",
   "source": "metrics_stats = tweets.performance_distribution()",
   "id": "b4f0662d64b214a1",
   "outputs": [
    {
     "data": {
      "text/plain": [
       "<Figure size 800x1200 with 3 Axes>"
      ],
      "image/png": "[encoded data removed]"
     },
     "metadata": {},
     "output_type": "display_data"
    }
   ],
   "execution_count": 7
  },
  {
   "metadata": {
    "ExecuteTime": {
     "end_time": "2024-11-27T15:57:04.923439Z",
     "start_time": "2024-11-27T15:57:04.872763Z"
    }
   },
   "cell_type": "code",
   "source": "metrics_stats",
   "id": "696a19c67f8b6ce9",
   "outputs": [
    {
     "data": {
      "text/plain": [
       "              likes       replies      retweets\n",
       "count  1.688976e+07  1.688976e+07  1.688976e+07\n",
       "mean   2.661873e+00  3.139260e-01  1.048771e+00\n",
       "std    1.467740e+02  2.317522e+01  8.604649e+01\n",
       "min    0.000000e+00  0.000000e+00  0.000000e+00\n",
       "50%    0.000000e+00  0.000000e+00  0.000000e+00\n",
       "89%    0.000000e+00           NaN           NaN\n",
       "99%    4.300000e+01  4.000000e+00  1.200000e+01\n",
       "max    2.919850e+05  7.738400e+04  1.812400e+05\n",
       "95%             NaN  0.000000e+00           NaN\n",
       "88%             NaN           NaN  0.000000e+00"
      ],
      "text/html": [
       "<div>\n",
       "<style scoped>\n",
       "    .dataframe tbody tr th:only-of-type {\n",
       "        vertical-align: middle;\n",
       "    }\n",
       "\n",
       "    .dataframe tbody tr th {\n",
       "        vertical-align: top;\n",
       "    }\n",
       "\n",
       "    .dataframe thead th {\n",
       "        text-align: right;\n",
       "    }\n",
       "</style>\n",
       "<table border=\"1\" class=\"dataframe\">\n",
       "  <thead>\n",
       "    <tr style=\"text-align: right;\">\n",
       "      <th></th>\n",
       "      <th>likes</th>\n",
       "      <th>replies</th>\n",
       "      <th>retweets</th>\n",
       "    </tr>\n",
       "  </thead>\n",
       "  <tbody>\n",
       "    <tr>\n",
       "      <th>count</th>\n",
       "      <td>1.688976e+07</td>\n",
       "      <td>1.688976e+07</td>\n",
       "      <td>1.688976e+07</td>\n",
       "    </tr>\n",
       "    <tr>\n",
       "      <th>mean</th>\n",
       "      <td>2.661873e+00</td>\n",
       "      <td>3.139260e-01</td>\n",
       "      <td>1.048771e+00</td>\n",
       "    </tr>\n",
       "    <tr>\n",
       "      <th>std</th>\n",
       "      <td>1.467740e+02</td>\n",
       "      <td>2.317522e+01</td>\n",
       "      <td>8.604649e+01</td>\n",
       "    </tr>\n",
       "    <tr>\n",
       "      <th>min</th>\n",
       "      <td>0.000000e+00</td>\n",
       "      <td>0.000000e+00</td>\n",
       "      <td>0.000000e+00</td>\n",
       "    </tr>\n",
       "    <tr>\n",
       "      <th>50%</th>\n",
       "      <td>0.000000e+00</td>\n",
       "      <td>0.000000e+00</td>\n",
       "      <td>0.000000e+00</td>\n",
       "    </tr>\n",
       "    <tr>\n",
       "      <th>89%</th>\n",
       "      <td>0.000000e+00</td>\n",
       "      <td>NaN</td>\n",
       "      <td>NaN</td>\n",
       "    </tr>\n",
       "    <tr>\n",
       "      <th>99%</th>\n",
       "      <td>4.300000e+01</td>\n",
       "      <td>4.000000e+00</td>\n",
       "      <td>1.200000e+01</td>\n",
       "    </tr>\n",
       "    <tr>\n",
       "      <th>max</th>\n",
       "      <td>2.919850e+05</td>\n",
       "      <td>7.738400e+04</td>\n",
       "      <td>1.812400e+05</td>\n",
       "    </tr>\n",
       "    <tr>\n",
       "      <th>95%</th>\n",
       "      <td>NaN</td>\n",
       "      <td>0.000000e+00</td>\n",
       "      <td>NaN</td>\n",
       "    </tr>\n",
       "    <tr>\n",
       "      <th>88%</th>\n",
       "      <td>NaN</td>\n",
       "      <td>NaN</td>\n",
       "      <td>0.000000e+00</td>\n",
       "    </tr>\n",
       "  </tbody>\n",
       "</table>\n",
       "</div>"
      ]
     },
     "execution_count": 8,
     "metadata": {},
     "output_type": "execute_result"
    }
   ],
   "execution_count": 8
  }
 ],
 "metadata": {
  "kernelspec": {
   "display_name": "Python 3",
   "language": "python",
   "name": "python3"
  },
  "language_info": {
   "codemirror_mode": {
    "name": "ipython",
    "version": 2
   },
   "file_extension": ".py",
   "mimetype": "text/x-python",
   "name": "python",
   "nbconvert_exporter": "python",
   "pygments_lexer": "ipython2",
   "version": "2.7.6"
  }
 },
 "nbformat": 4,
 "nbformat_minor": 5
}
