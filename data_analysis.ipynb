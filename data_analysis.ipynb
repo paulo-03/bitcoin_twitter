{
 "cells": [
  {
   "metadata": {},
   "cell_type": "markdown",
   "source": [
    "# Data Analysis\n",
    "\n",
    "This notebook allows to gain insight in both used dataset `tweet.zip` and `BTC-TUSD.parquet`."
   ],
   "id": "764dd5516401700b"
  },
  {
   "metadata": {
    "ExecuteTime": {
     "end_time": "2024-11-27T17:00:05.511472Z",
     "start_time": "2024-11-27T17:00:02.978040Z"
    }
   },
   "cell_type": "code",
   "source": [
    "from data_analysis import TweetsAnalyzer, BTCAnalyzer\n",
    "\n",
    "%load_ext autoreload\n",
    "%autoreload 2"
   ],
   "id": "24034e41a3437cbd",
   "outputs": [],
   "execution_count": 1
  },
  {
   "metadata": {},
   "cell_type": "markdown",
   "source": [
    "## BTC\n",
    "\n",
    "We start by looking at the `BTC-TUSD.parquet` dataset. First we load the file."
   ],
   "id": "70f9061aa59929e0"
  },
  {
   "metadata": {
    "ExecuteTime": {
     "end_time": "2024-11-27T17:15:16.730401Z",
     "start_time": "2024-11-27T17:15:16.372779Z"
    }
   },
   "cell_type": "code",
   "source": [
    "price = BTCAnalyzer(file_path='./data/BTC-TUSD.parquet')\n",
    "price.data"
   ],
   "id": "dcf66988234abde8",
   "outputs": [
    {
     "data": {
      "text/plain": [
       "                             open          high           low         close  \\\n",
       "open_time                                                                     \n",
       "2019-03-13 04:00:00      0.001000      0.001000      0.001000      0.001000   \n",
       "2019-03-13 04:01:00      0.001000      0.001000      0.001000      0.001000   \n",
       "2019-03-13 04:02:00      0.001000      0.001000      0.001000      0.001000   \n",
       "2019-03-13 04:03:00      0.001000      0.001000      0.001000      0.001000   \n",
       "2019-03-13 04:04:00      0.001000      0.001000      0.001000      0.001000   \n",
       "...                           ...           ...           ...           ...   \n",
       "2022-09-29 02:55:00  19471.599609  19471.599609  19471.599609  19471.599609   \n",
       "2022-09-29 02:56:00  19471.599609  19471.599609  19471.599609  19471.599609   \n",
       "2022-09-29 02:57:00  19444.160156  19446.019531  19444.160156  19446.019531   \n",
       "2022-09-29 02:58:00  19446.019531  19446.019531  19446.019531  19446.019531   \n",
       "2022-09-29 02:59:00  19446.019531  19446.019531  19446.019531  19446.019531   \n",
       "\n",
       "                      volume  quote_asset_volume  number_of_trades  \\\n",
       "open_time                                                            \n",
       "2019-03-13 04:00:00  0.00000            0.000000                 0   \n",
       "2019-03-13 04:01:00  0.00000            0.000000                 0   \n",
       "2019-03-13 04:02:00  0.00000            0.000000                 0   \n",
       "2019-03-13 04:03:00  0.00000            0.000000                 0   \n",
       "2019-03-13 04:04:00  0.00000            0.000000                 0   \n",
       "...                      ...                 ...               ...   \n",
       "2022-09-29 02:55:00  0.00064           12.461824                 1   \n",
       "2022-09-29 02:56:00  0.00000            0.000000                 0   \n",
       "2022-09-29 02:57:00  0.10157         1974.964844                 2   \n",
       "2022-09-29 02:58:00  0.00000            0.000000                 0   \n",
       "2022-09-29 02:59:00  0.00000            0.000000                 0   \n",
       "\n",
       "                     taker_buy_base_asset_volume  taker_buy_quote_asset_volume  \n",
       "open_time                                                                       \n",
       "2019-03-13 04:00:00                      0.00000                      0.000000  \n",
       "2019-03-13 04:01:00                      0.00000                      0.000000  \n",
       "2019-03-13 04:02:00                      0.00000                      0.000000  \n",
       "2019-03-13 04:03:00                      0.00000                      0.000000  \n",
       "2019-03-13 04:04:00                      0.00000                      0.000000  \n",
       "...                                          ...                           ...  \n",
       "2022-09-29 02:55:00                      0.00064                     12.461824  \n",
       "2022-09-29 02:56:00                      0.00000                      0.000000  \n",
       "2022-09-29 02:57:00                      0.10157                   1974.964844  \n",
       "2022-09-29 02:58:00                      0.00000                      0.000000  \n",
       "2022-09-29 02:59:00                      0.00000                      0.000000  \n",
       "\n",
       "[1862522 rows x 9 columns]"
      ],
      "text/html": [
       "<div>\n",
       "<style scoped>\n",
       "    .dataframe tbody tr th:only-of-type {\n",
       "        vertical-align: middle;\n",
       "    }\n",
       "\n",
       "    .dataframe tbody tr th {\n",
       "        vertical-align: top;\n",
       "    }\n",
       "\n",
       "    .dataframe thead th {\n",
       "        text-align: right;\n",
       "    }\n",
       "</style>\n",
       "<table border=\"1\" class=\"dataframe\">\n",
       "  <thead>\n",
       "    <tr style=\"text-align: right;\">\n",
       "      <th></th>\n",
       "      <th>open</th>\n",
       "      <th>high</th>\n",
       "      <th>low</th>\n",
       "      <th>close</th>\n",
       "      <th>volume</th>\n",
       "      <th>quote_asset_volume</th>\n",
       "      <th>number_of_trades</th>\n",
       "      <th>taker_buy_base_asset_volume</th>\n",
       "      <th>taker_buy_quote_asset_volume</th>\n",
       "    </tr>\n",
       "    <tr>\n",
       "      <th>open_time</th>\n",
       "      <th></th>\n",
       "      <th></th>\n",
       "      <th></th>\n",
       "      <th></th>\n",
       "      <th></th>\n",
       "      <th></th>\n",
       "      <th></th>\n",
       "      <th></th>\n",
       "      <th></th>\n",
       "    </tr>\n",
       "  </thead>\n",
       "  <tbody>\n",
       "    <tr>\n",
       "      <th>2019-03-13 04:00:00</th>\n",
       "      <td>0.001000</td>\n",
       "      <td>0.001000</td>\n",
       "      <td>0.001000</td>\n",
       "      <td>0.001000</td>\n",
       "      <td>0.00000</td>\n",
       "      <td>0.000000</td>\n",
       "      <td>0</td>\n",
       "      <td>0.00000</td>\n",
       "      <td>0.000000</td>\n",
       "    </tr>\n",
       "    <tr>\n",
       "      <th>2019-03-13 04:01:00</th>\n",
       "      <td>0.001000</td>\n",
       "      <td>0.001000</td>\n",
       "      <td>0.001000</td>\n",
       "      <td>0.001000</td>\n",
       "      <td>0.00000</td>\n",
       "      <td>0.000000</td>\n",
       "      <td>0</td>\n",
       "      <td>0.00000</td>\n",
       "      <td>0.000000</td>\n",
       "    </tr>\n",
       "    <tr>\n",
       "      <th>2019-03-13 04:02:00</th>\n",
       "      <td>0.001000</td>\n",
       "      <td>0.001000</td>\n",
       "      <td>0.001000</td>\n",
       "      <td>0.001000</td>\n",
       "      <td>0.00000</td>\n",
       "      <td>0.000000</td>\n",
       "      <td>0</td>\n",
       "      <td>0.00000</td>\n",
       "      <td>0.000000</td>\n",
       "    </tr>\n",
       "    <tr>\n",
       "      <th>2019-03-13 04:03:00</th>\n",
       "      <td>0.001000</td>\n",
       "      <td>0.001000</td>\n",
       "      <td>0.001000</td>\n",
       "      <td>0.001000</td>\n",
       "      <td>0.00000</td>\n",
       "      <td>0.000000</td>\n",
       "      <td>0</td>\n",
       "      <td>0.00000</td>\n",
       "      <td>0.000000</td>\n",
       "    </tr>\n",
       "    <tr>\n",
       "      <th>2019-03-13 04:04:00</th>\n",
       "      <td>0.001000</td>\n",
       "      <td>0.001000</td>\n",
       "      <td>0.001000</td>\n",
       "      <td>0.001000</td>\n",
       "      <td>0.00000</td>\n",
       "      <td>0.000000</td>\n",
       "      <td>0</td>\n",
       "      <td>0.00000</td>\n",
       "      <td>0.000000</td>\n",
       "    </tr>\n",
       "    <tr>\n",
       "      <th>...</th>\n",
       "      <td>...</td>\n",
       "      <td>...</td>\n",
       "      <td>...</td>\n",
       "      <td>...</td>\n",
       "      <td>...</td>\n",
       "      <td>...</td>\n",
       "      <td>...</td>\n",
       "      <td>...</td>\n",
       "      <td>...</td>\n",
       "    </tr>\n",
       "    <tr>\n",
       "      <th>2022-09-29 02:55:00</th>\n",
       "      <td>19471.599609</td>\n",
       "      <td>19471.599609</td>\n",
       "      <td>19471.599609</td>\n",
       "      <td>19471.599609</td>\n",
       "      <td>0.00064</td>\n",
       "      <td>12.461824</td>\n",
       "      <td>1</td>\n",
       "      <td>0.00064</td>\n",
       "      <td>12.461824</td>\n",
       "    </tr>\n",
       "    <tr>\n",
       "      <th>2022-09-29 02:56:00</th>\n",
       "      <td>19471.599609</td>\n",
       "      <td>19471.599609</td>\n",
       "      <td>19471.599609</td>\n",
       "      <td>19471.599609</td>\n",
       "      <td>0.00000</td>\n",
       "      <td>0.000000</td>\n",
       "      <td>0</td>\n",
       "      <td>0.00000</td>\n",
       "      <td>0.000000</td>\n",
       "    </tr>\n",
       "    <tr>\n",
       "      <th>2022-09-29 02:57:00</th>\n",
       "      <td>19444.160156</td>\n",
       "      <td>19446.019531</td>\n",
       "      <td>19444.160156</td>\n",
       "      <td>19446.019531</td>\n",
       "      <td>0.10157</td>\n",
       "      <td>1974.964844</td>\n",
       "      <td>2</td>\n",
       "      <td>0.10157</td>\n",
       "      <td>1974.964844</td>\n",
       "    </tr>\n",
       "    <tr>\n",
       "      <th>2022-09-29 02:58:00</th>\n",
       "      <td>19446.019531</td>\n",
       "      <td>19446.019531</td>\n",
       "      <td>19446.019531</td>\n",
       "      <td>19446.019531</td>\n",
       "      <td>0.00000</td>\n",
       "      <td>0.000000</td>\n",
       "      <td>0</td>\n",
       "      <td>0.00000</td>\n",
       "      <td>0.000000</td>\n",
       "    </tr>\n",
       "    <tr>\n",
       "      <th>2022-09-29 02:59:00</th>\n",
       "      <td>19446.019531</td>\n",
       "      <td>19446.019531</td>\n",
       "      <td>19446.019531</td>\n",
       "      <td>19446.019531</td>\n",
       "      <td>0.00000</td>\n",
       "      <td>0.000000</td>\n",
       "      <td>0</td>\n",
       "      <td>0.00000</td>\n",
       "      <td>0.000000</td>\n",
       "    </tr>\n",
       "  </tbody>\n",
       "</table>\n",
       "<p>1862522 rows × 9 columns</p>\n",
       "</div>"
      ]
     },
     "execution_count": 21,
     "metadata": {},
     "output_type": "execute_result"
    }
   ],
   "execution_count": 21
  },
  {
   "metadata": {},
   "cell_type": "markdown",
   "source": "We can now plot the whole dataset.",
   "id": "ee89c4cc651cbe1d"
  },
  {
   "metadata": {
    "ExecuteTime": {
     "end_time": "2024-11-27T17:15:35.755427Z",
     "start_time": "2024-11-27T17:15:35.187598Z"
    }
   },
   "cell_type": "code",
   "source": "price_change = price.plot_price()",
   "id": "c7ac3ed3175e8243",
   "outputs": [
    {
     "data": {
      "text/plain": [
       "<Figure size 1000x800 with 1 Axes>"
      ],
      "image/png": "[encoded data removed]"
     },
     "metadata": {},
     "output_type": "display_data"
    }
   ],
   "execution_count": 22
  },
  {
   "metadata": {},
   "cell_type": "markdown",
   "source": "Since we are making our analysis in a specific time window, we need to chunk the dataset to only keep the wanted information.",
   "id": "f104b7d9dc85385b"
  },
  {
   "metadata": {
    "ExecuteTime": {
     "end_time": "2024-11-27T17:07:27.378459Z",
     "start_time": "2024-11-27T17:07:27.336950Z"
    }
   },
   "cell_type": "code",
   "source": [
    "print(price.data.shape)\n",
    "price.data.iloc[[0, 1862521]]"
   ],
   "id": "b8c8dca327335044",
   "outputs": [
    {
     "name": "stdout",
     "output_type": "stream",
     "text": [
      "(1862522, 9)\n"
     ]
    },
    {
     "data": {
      "text/plain": [
       "                             open          high           low         close  \\\n",
       "open_time                                                                     \n",
       "2019-03-13 04:00:00      0.001000      0.001000      0.001000      0.001000   \n",
       "2022-09-29 02:59:00  19446.019531  19446.019531  19446.019531  19446.019531   \n",
       "\n",
       "                     volume  quote_asset_volume  number_of_trades  \\\n",
       "open_time                                                           \n",
       "2019-03-13 04:00:00     0.0                 0.0                 0   \n",
       "2022-09-29 02:59:00     0.0                 0.0                 0   \n",
       "\n",
       "                     taker_buy_base_asset_volume  taker_buy_quote_asset_volume  \n",
       "open_time                                                                       \n",
       "2019-03-13 04:00:00                          0.0                           0.0  \n",
       "2022-09-29 02:59:00                          0.0                           0.0  "
      ],
      "text/html": [
       "<div>\n",
       "<style scoped>\n",
       "    .dataframe tbody tr th:only-of-type {\n",
       "        vertical-align: middle;\n",
       "    }\n",
       "\n",
       "    .dataframe tbody tr th {\n",
       "        vertical-align: top;\n",
       "    }\n",
       "\n",
       "    .dataframe thead th {\n",
       "        text-align: right;\n",
       "    }\n",
       "</style>\n",
       "<table border=\"1\" class=\"dataframe\">\n",
       "  <thead>\n",
       "    <tr style=\"text-align: right;\">\n",
       "      <th></th>\n",
       "      <th>open</th>\n",
       "      <th>high</th>\n",
       "      <th>low</th>\n",
       "      <th>close</th>\n",
       "      <th>volume</th>\n",
       "      <th>quote_asset_volume</th>\n",
       "      <th>number_of_trades</th>\n",
       "      <th>taker_buy_base_asset_volume</th>\n",
       "      <th>taker_buy_quote_asset_volume</th>\n",
       "    </tr>\n",
       "    <tr>\n",
       "      <th>open_time</th>\n",
       "      <th></th>\n",
       "      <th></th>\n",
       "      <th></th>\n",
       "      <th></th>\n",
       "      <th></th>\n",
       "      <th></th>\n",
       "      <th></th>\n",
       "      <th></th>\n",
       "      <th></th>\n",
       "    </tr>\n",
       "  </thead>\n",
       "  <tbody>\n",
       "    <tr>\n",
       "      <th>2019-03-13 04:00:00</th>\n",
       "      <td>0.001000</td>\n",
       "      <td>0.001000</td>\n",
       "      <td>0.001000</td>\n",
       "      <td>0.001000</td>\n",
       "      <td>0.0</td>\n",
       "      <td>0.0</td>\n",
       "      <td>0</td>\n",
       "      <td>0.0</td>\n",
       "      <td>0.0</td>\n",
       "    </tr>\n",
       "    <tr>\n",
       "      <th>2022-09-29 02:59:00</th>\n",
       "      <td>19446.019531</td>\n",
       "      <td>19446.019531</td>\n",
       "      <td>19446.019531</td>\n",
       "      <td>19446.019531</td>\n",
       "      <td>0.0</td>\n",
       "      <td>0.0</td>\n",
       "      <td>0</td>\n",
       "      <td>0.0</td>\n",
       "      <td>0.0</td>\n",
       "    </tr>\n",
       "  </tbody>\n",
       "</table>\n",
       "</div>"
      ]
     },
     "execution_count": 15,
     "metadata": {},
     "output_type": "execute_result"
    }
   ],
   "execution_count": 15
  },
  {
   "metadata": {},
   "cell_type": "markdown",
   "source": [
    "## Tweets\n",
    "\n",
    "We can now have a look at the `tweets.zip` file."
   ],
   "id": "413531e887a5eda9"
  },
  {
   "metadata": {
    "ExecuteTime": {
     "end_time": "2024-11-27T17:15:15.300641Z",
     "start_time": "2024-11-27T17:12:48.001036Z"
    }
   },
   "cell_type": "code",
   "source": "tweets = TweetsAnalyzer(file_path='data/tweets.zip')",
   "id": "49c091b72dbc574",
   "outputs": [
    {
     "name": "stderr",
     "output_type": "stream",
     "text": [
      "17chunks [02:26,  8.65s/chunks]                    \n"
     ]
    }
   ],
   "execution_count": 18
  },
  {
   "metadata": {
    "ExecuteTime": {
     "end_time": "2024-11-27T17:15:15.960674Z",
     "start_time": "2024-11-27T17:15:15.733495Z"
    }
   },
   "cell_type": "code",
   "source": "tweets.data",
   "id": "6084f763de326aa1",
   "outputs": [
    {
     "data": {
      "text/plain": [
       "                    id             user              fullname  url  \\\n",
       "0         1.132977e+18     KamdemAbdiel         Abdiel kamdem  NaN   \n",
       "1         1.132977e+18        bitcointe             Bitcointe  NaN   \n",
       "2         1.132977e+18        3eyedbran   Bran - 3 Eyed Raven  NaN   \n",
       "3         1.132977e+18    DetroitCrypto           J. Scardina  NaN   \n",
       "4         1.132977e+18     mmursaleen72    Muhammad Mursaleen  NaN   \n",
       "...                ...              ...                   ...  ...   \n",
       "16889760  1.198262e+18    JacobCanfield        Jacob Canfield  NaN   \n",
       "16889761  1.198266e+18          Vizique               Vizique  NaN   \n",
       "16889762  1.198266e+18         torusJKL  Gal Buki ($torusJKL)  NaN   \n",
       "16889763  1.198266e+18  Adekunl95628158       Adekunle Daniel  NaN   \n",
       "16889764  1.198266e+18       HaraldoXRP                 Harry  NaN   \n",
       "\n",
       "                       timestamp  replies  likes  retweets  \\\n",
       "0         2019-05-27 11:49:14+00        0      0         0   \n",
       "1         2019-05-27 11:49:18+00        0      0         0   \n",
       "2         2019-05-27 11:49:06+00        0      2         1   \n",
       "3         2019-05-27 11:49:22+00        0      0         0   \n",
       "4         2019-05-27 11:49:23+00        0      0         0   \n",
       "...                          ...      ...    ...       ...   \n",
       "16889760  2019-11-23 15:28:50+00        2     16         3   \n",
       "16889761  2019-11-23 15:45:55+00        0      0         0   \n",
       "16889762  2019-11-23 15:45:56+00        0      0         0   \n",
       "16889763  2019-11-23 15:45:57+00        0      0         0   \n",
       "16889764  2019-11-23 15:45:06+00        0      2         1   \n",
       "\n",
       "                                                     text\\r  \n",
       "0         È appena uscito un nuovo video! LES CRYPTOMONN...  \n",
       "1         Cardano: Digitize Currencies; EOS https://t.co...  \n",
       "2         Another Test tweet that wasn't caught in the s...  \n",
       "3         Current Crypto Prices! \\n\\nBTC: $8721.99 USD\\n...  \n",
       "4         Spiv (Nosar Baz): BITCOIN Is An Asset &amp; NO...  \n",
       "...                                                     ...  \n",
       "16889760  Happy #FibonacciDay \\n\\nA while back I created...  \n",
       "16889761  Bitcoin Suisse Certificates :) https://t.co/nd...  \n",
       "16889762  Register now for the early access of the Codug...  \n",
       "16889763  @btc \\n@btc \\nDo you know that BTC Baskets isn...  \n",
       "16889764  $BTC - an update on the longer term view for B...  \n",
       "\n",
       "[16889765 rows x 9 columns]"
      ],
      "text/html": [
       "<div>\n",
       "<style scoped>\n",
       "    .dataframe tbody tr th:only-of-type {\n",
       "        vertical-align: middle;\n",
       "    }\n",
       "\n",
       "    .dataframe tbody tr th {\n",
       "        vertical-align: top;\n",
       "    }\n",
       "\n",
       "    .dataframe thead th {\n",
       "        text-align: right;\n",
       "    }\n",
       "</style>\n",
       "<table border=\"1\" class=\"dataframe\">\n",
       "  <thead>\n",
       "    <tr style=\"text-align: right;\">\n",
       "      <th></th>\n",
       "      <th>id</th>\n",
       "      <th>user</th>\n",
       "      <th>fullname</th>\n",
       "      <th>url</th>\n",
       "      <th>timestamp</th>\n",
       "      <th>replies</th>\n",
       "      <th>likes</th>\n",
       "      <th>retweets</th>\n",
       "      <th>text\\r</th>\n",
       "    </tr>\n",
       "  </thead>\n",
       "  <tbody>\n",
       "    <tr>\n",
       "      <th>0</th>\n",
       "      <td>1.132977e+18</td>\n",
       "      <td>KamdemAbdiel</td>\n",
       "      <td>Abdiel kamdem</td>\n",
       "      <td>NaN</td>\n",
       "      <td>2019-05-27 11:49:14+00</td>\n",
       "      <td>0</td>\n",
       "      <td>0</td>\n",
       "      <td>0</td>\n",
       "      <td>È appena uscito un nuovo video! LES CRYPTOMONN...</td>\n",
       "    </tr>\n",
       "    <tr>\n",
       "      <th>1</th>\n",
       "      <td>1.132977e+18</td>\n",
       "      <td>bitcointe</td>\n",
       "      <td>Bitcointe</td>\n",
       "      <td>NaN</td>\n",
       "      <td>2019-05-27 11:49:18+00</td>\n",
       "      <td>0</td>\n",
       "      <td>0</td>\n",
       "      <td>0</td>\n",
       "      <td>Cardano: Digitize Currencies; EOS https://t.co...</td>\n",
       "    </tr>\n",
       "    <tr>\n",
       "      <th>2</th>\n",
       "      <td>1.132977e+18</td>\n",
       "      <td>3eyedbran</td>\n",
       "      <td>Bran - 3 Eyed Raven</td>\n",
       "      <td>NaN</td>\n",
       "      <td>2019-05-27 11:49:06+00</td>\n",
       "      <td>0</td>\n",
       "      <td>2</td>\n",
       "      <td>1</td>\n",
       "      <td>Another Test tweet that wasn't caught in the s...</td>\n",
       "    </tr>\n",
       "    <tr>\n",
       "      <th>3</th>\n",
       "      <td>1.132977e+18</td>\n",
       "      <td>DetroitCrypto</td>\n",
       "      <td>J. Scardina</td>\n",
       "      <td>NaN</td>\n",
       "      <td>2019-05-27 11:49:22+00</td>\n",
       "      <td>0</td>\n",
       "      <td>0</td>\n",
       "      <td>0</td>\n",
       "      <td>Current Crypto Prices! \\n\\nBTC: $8721.99 USD\\n...</td>\n",
       "    </tr>\n",
       "    <tr>\n",
       "      <th>4</th>\n",
       "      <td>1.132977e+18</td>\n",
       "      <td>mmursaleen72</td>\n",
       "      <td>Muhammad Mursaleen</td>\n",
       "      <td>NaN</td>\n",
       "      <td>2019-05-27 11:49:23+00</td>\n",
       "      <td>0</td>\n",
       "      <td>0</td>\n",
       "      <td>0</td>\n",
       "      <td>Spiv (Nosar Baz): BITCOIN Is An Asset &amp;amp; NO...</td>\n",
       "    </tr>\n",
       "    <tr>\n",
       "      <th>...</th>\n",
       "      <td>...</td>\n",
       "      <td>...</td>\n",
       "      <td>...</td>\n",
       "      <td>...</td>\n",
       "      <td>...</td>\n",
       "      <td>...</td>\n",
       "      <td>...</td>\n",
       "      <td>...</td>\n",
       "      <td>...</td>\n",
       "    </tr>\n",
       "    <tr>\n",
       "      <th>16889760</th>\n",
       "      <td>1.198262e+18</td>\n",
       "      <td>JacobCanfield</td>\n",
       "      <td>Jacob Canfield</td>\n",
       "      <td>NaN</td>\n",
       "      <td>2019-11-23 15:28:50+00</td>\n",
       "      <td>2</td>\n",
       "      <td>16</td>\n",
       "      <td>3</td>\n",
       "      <td>Happy #FibonacciDay \\n\\nA while back I created...</td>\n",
       "    </tr>\n",
       "    <tr>\n",
       "      <th>16889761</th>\n",
       "      <td>1.198266e+18</td>\n",
       "      <td>Vizique</td>\n",
       "      <td>Vizique</td>\n",
       "      <td>NaN</td>\n",
       "      <td>2019-11-23 15:45:55+00</td>\n",
       "      <td>0</td>\n",
       "      <td>0</td>\n",
       "      <td>0</td>\n",
       "      <td>Bitcoin Suisse Certificates :) https://t.co/nd...</td>\n",
       "    </tr>\n",
       "    <tr>\n",
       "      <th>16889762</th>\n",
       "      <td>1.198266e+18</td>\n",
       "      <td>torusJKL</td>\n",
       "      <td>Gal Buki ($torusJKL)</td>\n",
       "      <td>NaN</td>\n",
       "      <td>2019-11-23 15:45:56+00</td>\n",
       "      <td>0</td>\n",
       "      <td>0</td>\n",
       "      <td>0</td>\n",
       "      <td>Register now for the early access of the Codug...</td>\n",
       "    </tr>\n",
       "    <tr>\n",
       "      <th>16889763</th>\n",
       "      <td>1.198266e+18</td>\n",
       "      <td>Adekunl95628158</td>\n",
       "      <td>Adekunle Daniel</td>\n",
       "      <td>NaN</td>\n",
       "      <td>2019-11-23 15:45:57+00</td>\n",
       "      <td>0</td>\n",
       "      <td>0</td>\n",
       "      <td>0</td>\n",
       "      <td>@btc \\n@btc \\nDo you know that BTC Baskets isn...</td>\n",
       "    </tr>\n",
       "    <tr>\n",
       "      <th>16889764</th>\n",
       "      <td>1.198266e+18</td>\n",
       "      <td>HaraldoXRP</td>\n",
       "      <td>Harry</td>\n",
       "      <td>NaN</td>\n",
       "      <td>2019-11-23 15:45:06+00</td>\n",
       "      <td>0</td>\n",
       "      <td>2</td>\n",
       "      <td>1</td>\n",
       "      <td>$BTC - an update on the longer term view for B...</td>\n",
       "    </tr>\n",
       "  </tbody>\n",
       "</table>\n",
       "<p>16889765 rows × 9 columns</p>\n",
       "</div>"
      ]
     },
     "execution_count": 19,
     "metadata": {},
     "output_type": "execute_result"
    }
   ],
   "execution_count": 19
  },
  {
   "metadata": {
    "ExecuteTime": {
     "end_time": "2024-11-27T17:15:16.242322Z",
     "start_time": "2024-11-27T17:15:16.175553Z"
    }
   },
   "cell_type": "code",
   "source": "print(tweets.data.shape)",
   "id": "328358dfdb0e93ad",
   "outputs": [
    {
     "name": "stdout",
     "output_type": "stream",
     "text": [
      "(16889765, 9)\n"
     ]
    }
   ],
   "execution_count": 20
  },
  {
   "metadata": {
    "ExecuteTime": {
     "end_time": "2024-11-27T16:31:27.425776Z",
     "start_time": "2024-11-27T16:30:35.568833Z"
    }
   },
   "cell_type": "code",
   "source": "metrics_stats = tweets.performance_distribution()",
   "id": "b4f0662d64b214a1",
   "outputs": [
    {
     "data": {
      "text/plain": [
       "<Figure size 800x1200 with 3 Axes>"
      ],
      "image/png": "[encoded data removed]"
     },
     "metadata": {},
     "output_type": "display_data"
    }
   ],
   "execution_count": 7
  },
  {
   "metadata": {
    "ExecuteTime": {
     "end_time": "2024-11-27T17:16:54.122967Z",
     "start_time": "2024-11-27T17:16:53.988666Z"
    }
   },
   "cell_type": "code",
   "source": "tweets.data.loc[[0, 1862521],\"timestamp\"]",
   "id": "696a19c67f8b6ce9",
   "outputs": [
    {
     "data": {
      "text/plain": [
       "0          2019-05-27 11:49:14+00\n",
       "1862521    2015-01-19 07:48:52+00\n",
       "Name: timestamp, dtype: object"
      ]
     },
     "execution_count": 25,
     "metadata": {},
     "output_type": "execute_result"
    }
   ],
   "execution_count": 25
  },
  {
   "metadata": {},
   "cell_type": "code",
   "outputs": [],
   "execution_count": null,
   "source": "",
   "id": "fa40dff42d54f0d6"
  }
 ],
 "metadata": {
  "kernelspec": {
   "display_name": "Python 3",
   "language": "python",
   "name": "python3"
  },
  "language_info": {
   "codemirror_mode": {
    "name": "ipython",
    "version": 2
   },
   "file_extension": ".py",
   "mimetype": "text/x-python",
   "name": "python",
   "nbconvert_exporter": "python",
   "pygments_lexer": "ipython2",
   "version": "2.7.6"
  }
 },
 "nbformat": 4,
 "nbformat_minor": 5
}
