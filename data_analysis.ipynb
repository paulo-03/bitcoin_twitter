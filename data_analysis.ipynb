{
 "cells": [
  {
   "metadata": {},
   "cell_type": "markdown",
   "source": [
    "# Data Analysis\n",
    "\n",
    "This notebook allows to gain insight in both used dataset `tweet.zip` and `BTC-TUSD.parquet`."
   ],
   "id": "764dd5516401700b"
  },
  {
   "metadata": {},
   "cell_type": "code",
   "outputs": [],
   "execution_count": null,
   "source": "from data_analysis import TweetsAnalyzer, BTCAnalyzer",
   "id": "24034e41a3437cbd"
  },
  {
   "metadata": {},
   "cell_type": "markdown",
   "source": [
    "## BTC\n",
    "\n",
    "We start by looking at the `BTC-TUSD.parquet` dataset. First we load the file."
   ],
   "id": "70f9061aa59929e0"
  },
  {
   "metadata": {},
   "cell_type": "code",
   "outputs": [],
   "execution_count": null,
   "source": "...",
   "id": "dcf66988234abde8"
  },
  {
   "metadata": {},
   "cell_type": "markdown",
   "source": "We can now plot the whole dataset.",
   "id": "ee89c4cc651cbe1d"
  },
  {
   "metadata": {},
   "cell_type": "code",
   "outputs": [],
   "execution_count": null,
   "source": "...",
   "id": "c7ac3ed3175e8243"
  },
  {
   "metadata": {},
   "cell_type": "markdown",
   "source": "Since we are making our analysis in a specific time window, we need to chunk the dataset to only keep the wanted information.",
   "id": "f104b7d9dc85385b"
  },
  {
   "metadata": {},
   "cell_type": "code",
   "outputs": [],
   "execution_count": null,
   "source": "...",
   "id": "b8c8dca327335044"
  },
  {
   "metadata": {},
   "cell_type": "markdown",
   "source": [
    "## Tweets\n",
    "\n",
    "We can now have a look at the `tweets.zip` file."
   ],
   "id": "413531e887a5eda9"
  },
  {
   "metadata": {},
   "cell_type": "code",
   "outputs": [],
   "execution_count": null,
   "source": "...",
   "id": "49c091b72dbc574"
  }
 ],
 "metadata": {
  "kernelspec": {
   "display_name": "Python 3",
   "language": "python",
   "name": "python3"
  },
  "language_info": {
   "codemirror_mode": {
    "name": "ipython",
    "version": 2
   },
   "file_extension": ".py",
   "mimetype": "text/x-python",
   "name": "python",
   "nbconvert_exporter": "python",
   "pygments_lexer": "ipython2",
   "version": "2.7.6"
  }
 },
 "nbformat": 4,
 "nbformat_minor": 5
}
