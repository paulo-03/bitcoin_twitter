{
 "cells": [
  {
   "metadata": {},
   "cell_type": "markdown",
   "source": [
    "# Data Analysis\n",
    "\n",
    "This notebook allows to gain insight in both used dataset `tweet.zip` and `BTC-TUSD.parquet`."
   ],
   "id": "764dd5516401700b"
  },
  {
   "metadata": {
    "ExecuteTime": {
     "end_time": "2024-11-28T14:51:28.324661Z",
     "start_time": "2024-11-28T14:51:25.487034Z"
    }
   },
   "cell_type": "code",
   "source": [
    "from data_analysis import TweetsAnalyzer, BTCAnalyzer\n",
    "import pandas as pd\n",
    "%load_ext autoreload\n",
    "%autoreload 2"
   ],
   "id": "24034e41a3437cbd",
   "outputs": [],
   "execution_count": 1
  },
  {
   "metadata": {},
   "cell_type": "markdown",
   "source": [
    "## BTC\n",
    "\n",
    "We start by looking at the `BTC-TUSD.parquet` dataset. First we load the file."
   ],
   "id": "70f9061aa59929e0"
  },
  {
   "metadata": {
    "ExecuteTime": {
     "end_time": "2024-11-28T14:51:28.818209Z",
     "start_time": "2024-11-28T14:51:28.334298Z"
    }
   },
   "cell_type": "code",
   "source": [
    "price = BTCAnalyzer(file_path='./data/BTC-USDT.parquet')\n",
    "price.data"
   ],
   "id": "dcf66988234abde8",
   "outputs": [
    {
     "data": {
      "text/plain": [
       "                             open          high           low         close  \\\n",
       "open_time                                                                     \n",
       "2017-08-17 04:00:00   4261.479980   4261.479980   4261.479980   4261.479980   \n",
       "2017-08-17 04:01:00   4261.479980   4261.479980   4261.479980   4261.479980   \n",
       "2017-08-17 04:02:00   4280.560059   4280.560059   4280.560059   4280.560059   \n",
       "2017-08-17 04:03:00   4261.479980   4261.479980   4261.479980   4261.479980   \n",
       "2017-08-17 04:04:00   4261.479980   4261.479980   4261.479980   4261.479980   \n",
       "...                           ...           ...           ...           ...   \n",
       "2022-11-16 23:55:00  16672.869141  16675.460938  16665.580078  16667.230469   \n",
       "2022-11-16 23:56:00  16666.060547  16676.900391  16662.439453  16675.179688   \n",
       "2022-11-16 23:57:00  16675.179688  16678.980469  16665.539062  16671.490234   \n",
       "2022-11-16 23:58:00  16670.240234  16675.949219  16668.730469  16674.310547   \n",
       "2022-11-16 23:59:00  16674.310547  16678.419922  16658.099609  16662.759766   \n",
       "\n",
       "                         volume  quote_asset_volume  number_of_trades  \\\n",
       "open_time                                                               \n",
       "2017-08-17 04:00:00    1.775183        7.564907e+03                 3   \n",
       "2017-08-17 04:01:00    0.000000        0.000000e+00                 0   \n",
       "2017-08-17 04:02:00    0.261074        1.117543e+03                 2   \n",
       "2017-08-17 04:03:00    0.012008        5.117185e+01                 3   \n",
       "2017-08-17 04:04:00    0.140796        5.999993e+02                 1   \n",
       "...                         ...                 ...               ...   \n",
       "2022-11-16 23:55:00   47.899929        7.984622e+05              1523   \n",
       "2022-11-16 23:56:00   86.314827        1.438798e+06              2169   \n",
       "2022-11-16 23:57:00   85.274879        1.421645e+06              2066   \n",
       "2022-11-16 23:58:00   56.534920        9.425971e+05              1605   \n",
       "2022-11-16 23:59:00  133.624603        2.227127e+06              2572   \n",
       "\n",
       "                     taker_buy_base_asset_volume  taker_buy_quote_asset_volume  \n",
       "open_time                                                                       \n",
       "2017-08-17 04:00:00                     0.075183                    320.390839  \n",
       "2017-08-17 04:01:00                     0.000000                      0.000000  \n",
       "2017-08-17 04:02:00                     0.261074                   1117.542969  \n",
       "2017-08-17 04:03:00                     0.012008                     51.171852  \n",
       "2017-08-17 04:04:00                     0.140796                    599.999329  \n",
       "...                                          ...                           ...  \n",
       "2022-11-16 23:55:00                    22.106960                 368517.281250  \n",
       "2022-11-16 23:56:00                    47.286331                 788269.250000  \n",
       "2022-11-16 23:57:00                    41.849972                 697719.312500  \n",
       "2022-11-16 23:58:00                    31.080429                 518212.093750  \n",
       "2022-11-16 23:59:00                    55.384220                 923146.812500  \n",
       "\n",
       "[2753182 rows x 9 columns]"
      ],
      "text/html": [
       "<div>\n",
       "<style scoped>\n",
       "    .dataframe tbody tr th:only-of-type {\n",
       "        vertical-align: middle;\n",
       "    }\n",
       "\n",
       "    .dataframe tbody tr th {\n",
       "        vertical-align: top;\n",
       "    }\n",
       "\n",
       "    .dataframe thead th {\n",
       "        text-align: right;\n",
       "    }\n",
       "</style>\n",
       "<table border=\"1\" class=\"dataframe\">\n",
       "  <thead>\n",
       "    <tr style=\"text-align: right;\">\n",
       "      <th></th>\n",
       "      <th>open</th>\n",
       "      <th>high</th>\n",
       "      <th>low</th>\n",
       "      <th>close</th>\n",
       "      <th>volume</th>\n",
       "      <th>quote_asset_volume</th>\n",
       "      <th>number_of_trades</th>\n",
       "      <th>taker_buy_base_asset_volume</th>\n",
       "      <th>taker_buy_quote_asset_volume</th>\n",
       "    </tr>\n",
       "    <tr>\n",
       "      <th>open_time</th>\n",
       "      <th></th>\n",
       "      <th></th>\n",
       "      <th></th>\n",
       "      <th></th>\n",
       "      <th></th>\n",
       "      <th></th>\n",
       "      <th></th>\n",
       "      <th></th>\n",
       "      <th></th>\n",
       "    </tr>\n",
       "  </thead>\n",
       "  <tbody>\n",
       "    <tr>\n",
       "      <th>2017-08-17 04:00:00</th>\n",
       "      <td>4261.479980</td>\n",
       "      <td>4261.479980</td>\n",
       "      <td>4261.479980</td>\n",
       "      <td>4261.479980</td>\n",
       "      <td>1.775183</td>\n",
       "      <td>7.564907e+03</td>\n",
       "      <td>3</td>\n",
       "      <td>0.075183</td>\n",
       "      <td>320.390839</td>\n",
       "    </tr>\n",
       "    <tr>\n",
       "      <th>2017-08-17 04:01:00</th>\n",
       "      <td>4261.479980</td>\n",
       "      <td>4261.479980</td>\n",
       "      <td>4261.479980</td>\n",
       "      <td>4261.479980</td>\n",
       "      <td>0.000000</td>\n",
       "      <td>0.000000e+00</td>\n",
       "      <td>0</td>\n",
       "      <td>0.000000</td>\n",
       "      <td>0.000000</td>\n",
       "    </tr>\n",
       "    <tr>\n",
       "      <th>2017-08-17 04:02:00</th>\n",
       "      <td>4280.560059</td>\n",
       "      <td>4280.560059</td>\n",
       "      <td>4280.560059</td>\n",
       "      <td>4280.560059</td>\n",
       "      <td>0.261074</td>\n",
       "      <td>1.117543e+03</td>\n",
       "      <td>2</td>\n",
       "      <td>0.261074</td>\n",
       "      <td>1117.542969</td>\n",
       "    </tr>\n",
       "    <tr>\n",
       "      <th>2017-08-17 04:03:00</th>\n",
       "      <td>4261.479980</td>\n",
       "      <td>4261.479980</td>\n",
       "      <td>4261.479980</td>\n",
       "      <td>4261.479980</td>\n",
       "      <td>0.012008</td>\n",
       "      <td>5.117185e+01</td>\n",
       "      <td>3</td>\n",
       "      <td>0.012008</td>\n",
       "      <td>51.171852</td>\n",
       "    </tr>\n",
       "    <tr>\n",
       "      <th>2017-08-17 04:04:00</th>\n",
       "      <td>4261.479980</td>\n",
       "      <td>4261.479980</td>\n",
       "      <td>4261.479980</td>\n",
       "      <td>4261.479980</td>\n",
       "      <td>0.140796</td>\n",
       "      <td>5.999993e+02</td>\n",
       "      <td>1</td>\n",
       "      <td>0.140796</td>\n",
       "      <td>599.999329</td>\n",
       "    </tr>\n",
       "    <tr>\n",
       "      <th>...</th>\n",
       "      <td>...</td>\n",
       "      <td>...</td>\n",
       "      <td>...</td>\n",
       "      <td>...</td>\n",
       "      <td>...</td>\n",
       "      <td>...</td>\n",
       "      <td>...</td>\n",
       "      <td>...</td>\n",
       "      <td>...</td>\n",
       "    </tr>\n",
       "    <tr>\n",
       "      <th>2022-11-16 23:55:00</th>\n",
       "      <td>16672.869141</td>\n",
       "      <td>16675.460938</td>\n",
       "      <td>16665.580078</td>\n",
       "      <td>16667.230469</td>\n",
       "      <td>47.899929</td>\n",
       "      <td>7.984622e+05</td>\n",
       "      <td>1523</td>\n",
       "      <td>22.106960</td>\n",
       "      <td>368517.281250</td>\n",
       "    </tr>\n",
       "    <tr>\n",
       "      <th>2022-11-16 23:56:00</th>\n",
       "      <td>16666.060547</td>\n",
       "      <td>16676.900391</td>\n",
       "      <td>16662.439453</td>\n",
       "      <td>16675.179688</td>\n",
       "      <td>86.314827</td>\n",
       "      <td>1.438798e+06</td>\n",
       "      <td>2169</td>\n",
       "      <td>47.286331</td>\n",
       "      <td>788269.250000</td>\n",
       "    </tr>\n",
       "    <tr>\n",
       "      <th>2022-11-16 23:57:00</th>\n",
       "      <td>16675.179688</td>\n",
       "      <td>16678.980469</td>\n",
       "      <td>16665.539062</td>\n",
       "      <td>16671.490234</td>\n",
       "      <td>85.274879</td>\n",
       "      <td>1.421645e+06</td>\n",
       "      <td>2066</td>\n",
       "      <td>41.849972</td>\n",
       "      <td>697719.312500</td>\n",
       "    </tr>\n",
       "    <tr>\n",
       "      <th>2022-11-16 23:58:00</th>\n",
       "      <td>16670.240234</td>\n",
       "      <td>16675.949219</td>\n",
       "      <td>16668.730469</td>\n",
       "      <td>16674.310547</td>\n",
       "      <td>56.534920</td>\n",
       "      <td>9.425971e+05</td>\n",
       "      <td>1605</td>\n",
       "      <td>31.080429</td>\n",
       "      <td>518212.093750</td>\n",
       "    </tr>\n",
       "    <tr>\n",
       "      <th>2022-11-16 23:59:00</th>\n",
       "      <td>16674.310547</td>\n",
       "      <td>16678.419922</td>\n",
       "      <td>16658.099609</td>\n",
       "      <td>16662.759766</td>\n",
       "      <td>133.624603</td>\n",
       "      <td>2.227127e+06</td>\n",
       "      <td>2572</td>\n",
       "      <td>55.384220</td>\n",
       "      <td>923146.812500</td>\n",
       "    </tr>\n",
       "  </tbody>\n",
       "</table>\n",
       "<p>2753182 rows × 9 columns</p>\n",
       "</div>"
      ]
     },
     "execution_count": 2,
     "metadata": {},
     "output_type": "execute_result"
    }
   ],
   "execution_count": 2
  },
  {
   "metadata": {},
   "cell_type": "markdown",
   "source": "We can now plot the whole dataset.",
   "id": "ee89c4cc651cbe1d"
  },
  {
   "metadata": {
    "ExecuteTime": {
     "end_time": "2024-11-28T14:51:30.803355Z",
     "start_time": "2024-11-28T14:51:28.991152Z"
    }
   },
   "cell_type": "code",
   "source": "price_change = price.plot_price()",
   "id": "c7ac3ed3175e8243",
   "outputs": [
    {
     "data": {
      "text/plain": [
       "<Figure size 1000x800 with 1 Axes>"
      ],
      "image/png": "[encoded data removed]"
     },
     "metadata": {},
     "output_type": "display_data"
    }
   ],
   "execution_count": 3
  },
  {
   "metadata": {},
   "cell_type": "markdown",
   "source": "Since we are making our analysis in a specific time window, we need to chunk the dataset to only keep the wanted information.",
   "id": "f104b7d9dc85385b"
  },
  {
   "metadata": {
    "ExecuteTime": {
     "end_time": "2024-11-28T14:51:31.019431Z",
     "start_time": "2024-11-28T14:51:30.889502Z"
    }
   },
   "cell_type": "code",
   "source": [
    "print(price.data.shape)\n",
    "price.data = price.data.reset_index()\n",
    "price.data.loc[[0, 2753181], \"open_time\"]"
   ],
   "id": "b8c8dca327335044",
   "outputs": [
    {
     "name": "stdout",
     "output_type": "stream",
     "text": [
      "(2753182, 9)\n"
     ]
    },
    {
     "data": {
      "text/plain": [
       "0         2017-08-17 04:00:00\n",
       "2753181   2022-11-16 23:59:00\n",
       "Name: open_time, dtype: datetime64[ns]"
      ]
     },
     "execution_count": 4,
     "metadata": {},
     "output_type": "execute_result"
    }
   ],
   "execution_count": 4
  },
  {
   "metadata": {
    "ExecuteTime": {
     "end_time": "2024-11-28T14:51:31.115959Z",
     "start_time": "2024-11-28T14:51:31.079045Z"
    }
   },
   "cell_type": "code",
   "source": "price.data[\"open_time\"].dtype",
   "id": "9455aed6172870b2",
   "outputs": [
    {
     "data": {
      "text/plain": [
       "dtype('<M8[ns]')"
      ]
     },
     "execution_count": 5,
     "metadata": {},
     "output_type": "execute_result"
    }
   ],
   "execution_count": 5
  },
  {
   "metadata": {
    "ExecuteTime": {
     "end_time": "2024-11-28T15:21:47.734719Z",
     "start_time": "2024-11-28T15:21:46.821192Z"
    }
   },
   "cell_type": "code",
   "source": [
    "price.data[\"open_time\"] =  pd.to_datetime(price.data[\"open_time\"]).dt.tz_localize('UTC')\n",
    "price.data = price.data.sort_values(by='open_time', ascending=True)\n",
    "price.data"
   ],
   "id": "d540aeb8faa9ffad",
   "outputs": [
    {
     "data": {
      "text/plain": [
       "                        open_time          open          high           low  \\\n",
       "0       2017-08-17 04:00:00+00:00   4261.479980   4261.479980   4261.479980   \n",
       "1       2017-08-17 04:01:00+00:00   4261.479980   4261.479980   4261.479980   \n",
       "2       2017-08-17 04:02:00+00:00   4280.560059   4280.560059   4280.560059   \n",
       "3       2017-08-17 04:03:00+00:00   4261.479980   4261.479980   4261.479980   \n",
       "4       2017-08-17 04:04:00+00:00   4261.479980   4261.479980   4261.479980   \n",
       "...                           ...           ...           ...           ...   \n",
       "2753177 2022-11-16 23:55:00+00:00  16672.869141  16675.460938  16665.580078   \n",
       "2753178 2022-11-16 23:56:00+00:00  16666.060547  16676.900391  16662.439453   \n",
       "2753179 2022-11-16 23:57:00+00:00  16675.179688  16678.980469  16665.539062   \n",
       "2753180 2022-11-16 23:58:00+00:00  16670.240234  16675.949219  16668.730469   \n",
       "2753181 2022-11-16 23:59:00+00:00  16674.310547  16678.419922  16658.099609   \n",
       "\n",
       "                close      volume  quote_asset_volume  number_of_trades  \\\n",
       "0         4261.479980    1.775183        7.564907e+03                 3   \n",
       "1         4261.479980    0.000000        0.000000e+00                 0   \n",
       "2         4280.560059    0.261074        1.117543e+03                 2   \n",
       "3         4261.479980    0.012008        5.117185e+01                 3   \n",
       "4         4261.479980    0.140796        5.999993e+02                 1   \n",
       "...               ...         ...                 ...               ...   \n",
       "2753177  16667.230469   47.899929        7.984622e+05              1523   \n",
       "2753178  16675.179688   86.314827        1.438798e+06              2169   \n",
       "2753179  16671.490234   85.274879        1.421645e+06              2066   \n",
       "2753180  16674.310547   56.534920        9.425971e+05              1605   \n",
       "2753181  16662.759766  133.624603        2.227127e+06              2572   \n",
       "\n",
       "         taker_buy_base_asset_volume  taker_buy_quote_asset_volume  \n",
       "0                           0.075183                    320.390839  \n",
       "1                           0.000000                      0.000000  \n",
       "2                           0.261074                   1117.542969  \n",
       "3                           0.012008                     51.171852  \n",
       "4                           0.140796                    599.999329  \n",
       "...                              ...                           ...  \n",
       "2753177                    22.106960                 368517.281250  \n",
       "2753178                    47.286331                 788269.250000  \n",
       "2753179                    41.849972                 697719.312500  \n",
       "2753180                    31.080429                 518212.093750  \n",
       "2753181                    55.384220                 923146.812500  \n",
       "\n",
       "[2753182 rows x 10 columns]"
      ],
      "text/html": [
       "<div>\n",
       "<style scoped>\n",
       "    .dataframe tbody tr th:only-of-type {\n",
       "        vertical-align: middle;\n",
       "    }\n",
       "\n",
       "    .dataframe tbody tr th {\n",
       "        vertical-align: top;\n",
       "    }\n",
       "\n",
       "    .dataframe thead th {\n",
       "        text-align: right;\n",
       "    }\n",
       "</style>\n",
       "<table border=\"1\" class=\"dataframe\">\n",
       "  <thead>\n",
       "    <tr style=\"text-align: right;\">\n",
       "      <th></th>\n",
       "      <th>open_time</th>\n",
       "      <th>open</th>\n",
       "      <th>high</th>\n",
       "      <th>low</th>\n",
       "      <th>close</th>\n",
       "      <th>volume</th>\n",
       "      <th>quote_asset_volume</th>\n",
       "      <th>number_of_trades</th>\n",
       "      <th>taker_buy_base_asset_volume</th>\n",
       "      <th>taker_buy_quote_asset_volume</th>\n",
       "    </tr>\n",
       "  </thead>\n",
       "  <tbody>\n",
       "    <tr>\n",
       "      <th>0</th>\n",
       "      <td>2017-08-17 04:00:00+00:00</td>\n",
       "      <td>4261.479980</td>\n",
       "      <td>4261.479980</td>\n",
       "      <td>4261.479980</td>\n",
       "      <td>4261.479980</td>\n",
       "      <td>1.775183</td>\n",
       "      <td>7.564907e+03</td>\n",
       "      <td>3</td>\n",
       "      <td>0.075183</td>\n",
       "      <td>320.390839</td>\n",
       "    </tr>\n",
       "    <tr>\n",
       "      <th>1</th>\n",
       "      <td>2017-08-17 04:01:00+00:00</td>\n",
       "      <td>4261.479980</td>\n",
       "      <td>4261.479980</td>\n",
       "      <td>4261.479980</td>\n",
       "      <td>4261.479980</td>\n",
       "      <td>0.000000</td>\n",
       "      <td>0.000000e+00</td>\n",
       "      <td>0</td>\n",
       "      <td>0.000000</td>\n",
       "      <td>0.000000</td>\n",
       "    </tr>\n",
       "    <tr>\n",
       "      <th>2</th>\n",
       "      <td>2017-08-17 04:02:00+00:00</td>\n",
       "      <td>4280.560059</td>\n",
       "      <td>4280.560059</td>\n",
       "      <td>4280.560059</td>\n",
       "      <td>4280.560059</td>\n",
       "      <td>0.261074</td>\n",
       "      <td>1.117543e+03</td>\n",
       "      <td>2</td>\n",
       "      <td>0.261074</td>\n",
       "      <td>1117.542969</td>\n",
       "    </tr>\n",
       "    <tr>\n",
       "      <th>3</th>\n",
       "      <td>2017-08-17 04:03:00+00:00</td>\n",
       "      <td>4261.479980</td>\n",
       "      <td>4261.479980</td>\n",
       "      <td>4261.479980</td>\n",
       "      <td>4261.479980</td>\n",
       "      <td>0.012008</td>\n",
       "      <td>5.117185e+01</td>\n",
       "      <td>3</td>\n",
       "      <td>0.012008</td>\n",
       "      <td>51.171852</td>\n",
       "    </tr>\n",
       "    <tr>\n",
       "      <th>4</th>\n",
       "      <td>2017-08-17 04:04:00+00:00</td>\n",
       "      <td>4261.479980</td>\n",
       "      <td>4261.479980</td>\n",
       "      <td>4261.479980</td>\n",
       "      <td>4261.479980</td>\n",
       "      <td>0.140796</td>\n",
       "      <td>5.999993e+02</td>\n",
       "      <td>1</td>\n",
       "      <td>0.140796</td>\n",
       "      <td>599.999329</td>\n",
       "    </tr>\n",
       "    <tr>\n",
       "      <th>...</th>\n",
       "      <td>...</td>\n",
       "      <td>...</td>\n",
       "      <td>...</td>\n",
       "      <td>...</td>\n",
       "      <td>...</td>\n",
       "      <td>...</td>\n",
       "      <td>...</td>\n",
       "      <td>...</td>\n",
       "      <td>...</td>\n",
       "      <td>...</td>\n",
       "    </tr>\n",
       "    <tr>\n",
       "      <th>2753177</th>\n",
       "      <td>2022-11-16 23:55:00+00:00</td>\n",
       "      <td>16672.869141</td>\n",
       "      <td>16675.460938</td>\n",
       "      <td>16665.580078</td>\n",
       "      <td>16667.230469</td>\n",
       "      <td>47.899929</td>\n",
       "      <td>7.984622e+05</td>\n",
       "      <td>1523</td>\n",
       "      <td>22.106960</td>\n",
       "      <td>368517.281250</td>\n",
       "    </tr>\n",
       "    <tr>\n",
       "      <th>2753178</th>\n",
       "      <td>2022-11-16 23:56:00+00:00</td>\n",
       "      <td>16666.060547</td>\n",
       "      <td>16676.900391</td>\n",
       "      <td>16662.439453</td>\n",
       "      <td>16675.179688</td>\n",
       "      <td>86.314827</td>\n",
       "      <td>1.438798e+06</td>\n",
       "      <td>2169</td>\n",
       "      <td>47.286331</td>\n",
       "      <td>788269.250000</td>\n",
       "    </tr>\n",
       "    <tr>\n",
       "      <th>2753179</th>\n",
       "      <td>2022-11-16 23:57:00+00:00</td>\n",
       "      <td>16675.179688</td>\n",
       "      <td>16678.980469</td>\n",
       "      <td>16665.539062</td>\n",
       "      <td>16671.490234</td>\n",
       "      <td>85.274879</td>\n",
       "      <td>1.421645e+06</td>\n",
       "      <td>2066</td>\n",
       "      <td>41.849972</td>\n",
       "      <td>697719.312500</td>\n",
       "    </tr>\n",
       "    <tr>\n",
       "      <th>2753180</th>\n",
       "      <td>2022-11-16 23:58:00+00:00</td>\n",
       "      <td>16670.240234</td>\n",
       "      <td>16675.949219</td>\n",
       "      <td>16668.730469</td>\n",
       "      <td>16674.310547</td>\n",
       "      <td>56.534920</td>\n",
       "      <td>9.425971e+05</td>\n",
       "      <td>1605</td>\n",
       "      <td>31.080429</td>\n",
       "      <td>518212.093750</td>\n",
       "    </tr>\n",
       "    <tr>\n",
       "      <th>2753181</th>\n",
       "      <td>2022-11-16 23:59:00+00:00</td>\n",
       "      <td>16674.310547</td>\n",
       "      <td>16678.419922</td>\n",
       "      <td>16658.099609</td>\n",
       "      <td>16662.759766</td>\n",
       "      <td>133.624603</td>\n",
       "      <td>2.227127e+06</td>\n",
       "      <td>2572</td>\n",
       "      <td>55.384220</td>\n",
       "      <td>923146.812500</td>\n",
       "    </tr>\n",
       "  </tbody>\n",
       "</table>\n",
       "<p>2753182 rows × 10 columns</p>\n",
       "</div>"
      ]
     },
     "execution_count": 32,
     "metadata": {},
     "output_type": "execute_result"
    }
   ],
   "execution_count": 32
  },
  {
   "metadata": {},
   "cell_type": "markdown",
   "source": [
    "## Tweets\n",
    "\n",
    "We can now have a look at the `tweets.zip` file."
   ],
   "id": "413531e887a5eda9"
  },
  {
   "metadata": {
    "ExecuteTime": {
     "end_time": "2024-11-28T14:55:40.412315Z",
     "start_time": "2024-11-28T14:51:31.576006Z"
    }
   },
   "cell_type": "code",
   "source": "tweets = TweetsAnalyzer(file_path='data/tweets.csv.zip')",
   "id": "49c091b72dbc574",
   "outputs": [
    {
     "name": "stderr",
     "output_type": "stream",
     "text": [
      "17chunks [04:08, 14.62s/chunks]                    \n"
     ]
    }
   ],
   "execution_count": 7
  },
  {
   "metadata": {
    "ExecuteTime": {
     "end_time": "2024-11-28T14:55:41.829930Z",
     "start_time": "2024-11-28T14:55:41.784560Z"
    }
   },
   "cell_type": "code",
   "source": "tweets.data",
   "id": "6084f763de326aa1",
   "outputs": [
    {
     "data": {
      "text/plain": [
       "                    id             user              fullname  url  \\\n",
       "0         1.132977e+18     KamdemAbdiel         Abdiel kamdem  NaN   \n",
       "1         1.132977e+18        bitcointe             Bitcointe  NaN   \n",
       "2         1.132977e+18        3eyedbran   Bran - 3 Eyed Raven  NaN   \n",
       "3         1.132977e+18    DetroitCrypto           J. Scardina  NaN   \n",
       "4         1.132977e+18     mmursaleen72    Muhammad Mursaleen  NaN   \n",
       "...                ...              ...                   ...  ...   \n",
       "16889760  1.198262e+18    JacobCanfield        Jacob Canfield  NaN   \n",
       "16889761  1.198266e+18          Vizique               Vizique  NaN   \n",
       "16889762  1.198266e+18         torusJKL  Gal Buki ($torusJKL)  NaN   \n",
       "16889763  1.198266e+18  Adekunl95628158       Adekunle Daniel  NaN   \n",
       "16889764  1.198266e+18       HaraldoXRP                 Harry  NaN   \n",
       "\n",
       "                       timestamp  replies  likes  retweets  \\\n",
       "0         2019-05-27 11:49:14+00        0      0         0   \n",
       "1         2019-05-27 11:49:18+00        0      0         0   \n",
       "2         2019-05-27 11:49:06+00        0      2         1   \n",
       "3         2019-05-27 11:49:22+00        0      0         0   \n",
       "4         2019-05-27 11:49:23+00        0      0         0   \n",
       "...                          ...      ...    ...       ...   \n",
       "16889760  2019-11-23 15:28:50+00        2     16         3   \n",
       "16889761  2019-11-23 15:45:55+00        0      0         0   \n",
       "16889762  2019-11-23 15:45:56+00        0      0         0   \n",
       "16889763  2019-11-23 15:45:57+00        0      0         0   \n",
       "16889764  2019-11-23 15:45:06+00        0      2         1   \n",
       "\n",
       "                                                     text\\r  \n",
       "0         È appena uscito un nuovo video! LES CRYPTOMONN...  \n",
       "1         Cardano: Digitize Currencies; EOS https://t.co...  \n",
       "2         Another Test tweet that wasn't caught in the s...  \n",
       "3         Current Crypto Prices! \\n\\nBTC: $8721.99 USD\\n...  \n",
       "4         Spiv (Nosar Baz): BITCOIN Is An Asset &amp; NO...  \n",
       "...                                                     ...  \n",
       "16889760  Happy #FibonacciDay \\n\\nA while back I created...  \n",
       "16889761  Bitcoin Suisse Certificates :) https://t.co/nd...  \n",
       "16889762  Register now for the early access of the Codug...  \n",
       "16889763  @btc \\n@btc \\nDo you know that BTC Baskets isn...  \n",
       "16889764  $BTC - an update on the longer term view for B...  \n",
       "\n",
       "[16889765 rows x 9 columns]"
      ],
      "text/html": [
       "<div>\n",
       "<style scoped>\n",
       "    .dataframe tbody tr th:only-of-type {\n",
       "        vertical-align: middle;\n",
       "    }\n",
       "\n",
       "    .dataframe tbody tr th {\n",
       "        vertical-align: top;\n",
       "    }\n",
       "\n",
       "    .dataframe thead th {\n",
       "        text-align: right;\n",
       "    }\n",
       "</style>\n",
       "<table border=\"1\" class=\"dataframe\">\n",
       "  <thead>\n",
       "    <tr style=\"text-align: right;\">\n",
       "      <th></th>\n",
       "      <th>id</th>\n",
       "      <th>user</th>\n",
       "      <th>fullname</th>\n",
       "      <th>url</th>\n",
       "      <th>timestamp</th>\n",
       "      <th>replies</th>\n",
       "      <th>likes</th>\n",
       "      <th>retweets</th>\n",
       "      <th>text\\r</th>\n",
       "    </tr>\n",
       "  </thead>\n",
       "  <tbody>\n",
       "    <tr>\n",
       "      <th>0</th>\n",
       "      <td>1.132977e+18</td>\n",
       "      <td>KamdemAbdiel</td>\n",
       "      <td>Abdiel kamdem</td>\n",
       "      <td>NaN</td>\n",
       "      <td>2019-05-27 11:49:14+00</td>\n",
       "      <td>0</td>\n",
       "      <td>0</td>\n",
       "      <td>0</td>\n",
       "      <td>È appena uscito un nuovo video! LES CRYPTOMONN...</td>\n",
       "    </tr>\n",
       "    <tr>\n",
       "      <th>1</th>\n",
       "      <td>1.132977e+18</td>\n",
       "      <td>bitcointe</td>\n",
       "      <td>Bitcointe</td>\n",
       "      <td>NaN</td>\n",
       "      <td>2019-05-27 11:49:18+00</td>\n",
       "      <td>0</td>\n",
       "      <td>0</td>\n",
       "      <td>0</td>\n",
       "      <td>Cardano: Digitize Currencies; EOS https://t.co...</td>\n",
       "    </tr>\n",
       "    <tr>\n",
       "      <th>2</th>\n",
       "      <td>1.132977e+18</td>\n",
       "      <td>3eyedbran</td>\n",
       "      <td>Bran - 3 Eyed Raven</td>\n",
       "      <td>NaN</td>\n",
       "      <td>2019-05-27 11:49:06+00</td>\n",
       "      <td>0</td>\n",
       "      <td>2</td>\n",
       "      <td>1</td>\n",
       "      <td>Another Test tweet that wasn't caught in the s...</td>\n",
       "    </tr>\n",
       "    <tr>\n",
       "      <th>3</th>\n",
       "      <td>1.132977e+18</td>\n",
       "      <td>DetroitCrypto</td>\n",
       "      <td>J. Scardina</td>\n",
       "      <td>NaN</td>\n",
       "      <td>2019-05-27 11:49:22+00</td>\n",
       "      <td>0</td>\n",
       "      <td>0</td>\n",
       "      <td>0</td>\n",
       "      <td>Current Crypto Prices! \\n\\nBTC: $8721.99 USD\\n...</td>\n",
       "    </tr>\n",
       "    <tr>\n",
       "      <th>4</th>\n",
       "      <td>1.132977e+18</td>\n",
       "      <td>mmursaleen72</td>\n",
       "      <td>Muhammad Mursaleen</td>\n",
       "      <td>NaN</td>\n",
       "      <td>2019-05-27 11:49:23+00</td>\n",
       "      <td>0</td>\n",
       "      <td>0</td>\n",
       "      <td>0</td>\n",
       "      <td>Spiv (Nosar Baz): BITCOIN Is An Asset &amp;amp; NO...</td>\n",
       "    </tr>\n",
       "    <tr>\n",
       "      <th>...</th>\n",
       "      <td>...</td>\n",
       "      <td>...</td>\n",
       "      <td>...</td>\n",
       "      <td>...</td>\n",
       "      <td>...</td>\n",
       "      <td>...</td>\n",
       "      <td>...</td>\n",
       "      <td>...</td>\n",
       "      <td>...</td>\n",
       "    </tr>\n",
       "    <tr>\n",
       "      <th>16889760</th>\n",
       "      <td>1.198262e+18</td>\n",
       "      <td>JacobCanfield</td>\n",
       "      <td>Jacob Canfield</td>\n",
       "      <td>NaN</td>\n",
       "      <td>2019-11-23 15:28:50+00</td>\n",
       "      <td>2</td>\n",
       "      <td>16</td>\n",
       "      <td>3</td>\n",
       "      <td>Happy #FibonacciDay \\n\\nA while back I created...</td>\n",
       "    </tr>\n",
       "    <tr>\n",
       "      <th>16889761</th>\n",
       "      <td>1.198266e+18</td>\n",
       "      <td>Vizique</td>\n",
       "      <td>Vizique</td>\n",
       "      <td>NaN</td>\n",
       "      <td>2019-11-23 15:45:55+00</td>\n",
       "      <td>0</td>\n",
       "      <td>0</td>\n",
       "      <td>0</td>\n",
       "      <td>Bitcoin Suisse Certificates :) https://t.co/nd...</td>\n",
       "    </tr>\n",
       "    <tr>\n",
       "      <th>16889762</th>\n",
       "      <td>1.198266e+18</td>\n",
       "      <td>torusJKL</td>\n",
       "      <td>Gal Buki ($torusJKL)</td>\n",
       "      <td>NaN</td>\n",
       "      <td>2019-11-23 15:45:56+00</td>\n",
       "      <td>0</td>\n",
       "      <td>0</td>\n",
       "      <td>0</td>\n",
       "      <td>Register now for the early access of the Codug...</td>\n",
       "    </tr>\n",
       "    <tr>\n",
       "      <th>16889763</th>\n",
       "      <td>1.198266e+18</td>\n",
       "      <td>Adekunl95628158</td>\n",
       "      <td>Adekunle Daniel</td>\n",
       "      <td>NaN</td>\n",
       "      <td>2019-11-23 15:45:57+00</td>\n",
       "      <td>0</td>\n",
       "      <td>0</td>\n",
       "      <td>0</td>\n",
       "      <td>@btc \\n@btc \\nDo you know that BTC Baskets isn...</td>\n",
       "    </tr>\n",
       "    <tr>\n",
       "      <th>16889764</th>\n",
       "      <td>1.198266e+18</td>\n",
       "      <td>HaraldoXRP</td>\n",
       "      <td>Harry</td>\n",
       "      <td>NaN</td>\n",
       "      <td>2019-11-23 15:45:06+00</td>\n",
       "      <td>0</td>\n",
       "      <td>2</td>\n",
       "      <td>1</td>\n",
       "      <td>$BTC - an update on the longer term view for B...</td>\n",
       "    </tr>\n",
       "  </tbody>\n",
       "</table>\n",
       "<p>16889765 rows × 9 columns</p>\n",
       "</div>"
      ]
     },
     "execution_count": 8,
     "metadata": {},
     "output_type": "execute_result"
    }
   ],
   "execution_count": 8
  },
  {
   "metadata": {
    "ExecuteTime": {
     "end_time": "2024-11-28T14:55:42.124554Z",
     "start_time": "2024-11-28T14:55:42.054022Z"
    }
   },
   "cell_type": "code",
   "source": [
    "print(tweets.data.shape)\n",
    "tweets.data.loc[[0, 16889764], \"timestamp\"]"
   ],
   "id": "328358dfdb0e93ad",
   "outputs": [
    {
     "name": "stdout",
     "output_type": "stream",
     "text": [
      "(16889765, 9)\n"
     ]
    },
    {
     "data": {
      "text/plain": [
       "0           2019-05-27 11:49:14+00\n",
       "16889764    2019-11-23 15:45:06+00\n",
       "Name: timestamp, dtype: object"
      ]
     },
     "execution_count": 9,
     "metadata": {},
     "output_type": "execute_result"
    }
   ],
   "execution_count": 9
  },
  {
   "metadata": {
    "ExecuteTime": {
     "end_time": "2024-11-28T14:55:42.619303Z",
     "start_time": "2024-11-28T14:55:42.575751Z"
    }
   },
   "cell_type": "code",
   "source": "tweets.data[\"timestamp\"].dtype",
   "id": "78447af4d222cb67",
   "outputs": [
    {
     "data": {
      "text/plain": [
       "dtype('O')"
      ]
     },
     "execution_count": 10,
     "metadata": {},
     "output_type": "execute_result"
    }
   ],
   "execution_count": 10
  },
  {
   "metadata": {
    "ExecuteTime": {
     "end_time": "2024-11-28T14:56:32.883430Z",
     "start_time": "2024-11-28T14:55:43.225799Z"
    }
   },
   "cell_type": "code",
   "source": [
    "tweets.data['timestamp'] = pd.to_datetime(tweets.data['timestamp'])\n",
    "tweets.data = tweets.data.sort_values(by='timestamp', ascending=True)\n",
    "tweets.data"
   ],
   "id": "926e98a3f3d6c002",
   "outputs": [
    {
     "data": {
      "text/plain": [
       "                    id             user                  fullname  url  \\\n",
       "11291156  3.286741e+07     chrispychong                   chrispy  NaN   \n",
       "21        1.110303e+09           halfin                    halfin  NaN   \n",
       "5164467   1.136750e+09           halfin                    halfin  NaN   \n",
       "5210398   1.153097e+09           halfin                    halfin  NaN   \n",
       "5269667   1.158417e+09      fafcffacfff                 GoldLover  NaN   \n",
       "...                ...              ...                       ...  ...   \n",
       "16889757  1.198266e+18    theautomatski                Automatski  NaN   \n",
       "16889759  1.198266e+18    digital_mine_  digital mine ⚡🤖👨‍💻🇭🇰🇭🇰🇭🇰  NaN   \n",
       "16889761  1.198266e+18          Vizique                   Vizique  NaN   \n",
       "16889762  1.198266e+18         torusJKL      Gal Buki ($torusJKL)  NaN   \n",
       "16889763  1.198266e+18  Adekunl95628158           Adekunle Daniel  NaN   \n",
       "\n",
       "                         timestamp  replies  likes  retweets  \\\n",
       "11291156 2007-04-19 07:14:38+00:00        0      0         2   \n",
       "21       2009-01-11 03:33:52+00:00      790  14470      5542   \n",
       "5164467  2009-01-21 17:29:40+00:00       55   1544       392   \n",
       "5210398  2009-01-27 20:14:10+00:00       44   1042       277   \n",
       "5269667  2009-01-29 13:37:53+00:00        0     28        16   \n",
       "...                            ...      ...    ...       ...   \n",
       "16889757 2019-11-23 15:45:53+00:00        0      0         0   \n",
       "16889759 2019-11-23 15:45:55+00:00        0      0         0   \n",
       "16889761 2019-11-23 15:45:55+00:00        0      0         0   \n",
       "16889762 2019-11-23 15:45:56+00:00        0      0         0   \n",
       "16889763 2019-11-23 15:45:57+00:00        0      0         0   \n",
       "\n",
       "                                                     text\\r  \n",
       "11291156  is happily mugging at BTC where she will hook ...  \n",
       "21                                        Running bitcoin\\r  \n",
       "5164467   Looking at ways to add more anonymity to bitco...  \n",
       "5210398   Thinking about how to reduce CO2 emissions fro...  \n",
       "5269667   From: Satoshi Nakamoto - 2009-01-11 22:32 Bitc...  \n",
       "...                                                     ...  \n",
       "16889757  The Worlds First Millennium Firm https://t.co/...  \n",
       "16889759  Daily profit for HODLING BTC since 2013 Data t...  \n",
       "16889761  Bitcoin Suisse Certificates :) https://t.co/nd...  \n",
       "16889762  Register now for the early access of the Codug...  \n",
       "16889763  @btc \\n@btc \\nDo you know that BTC Baskets isn...  \n",
       "\n",
       "[16889765 rows x 9 columns]"
      ],
      "text/html": [
       "<div>\n",
       "<style scoped>\n",
       "    .dataframe tbody tr th:only-of-type {\n",
       "        vertical-align: middle;\n",
       "    }\n",
       "\n",
       "    .dataframe tbody tr th {\n",
       "        vertical-align: top;\n",
       "    }\n",
       "\n",
       "    .dataframe thead th {\n",
       "        text-align: right;\n",
       "    }\n",
       "</style>\n",
       "<table border=\"1\" class=\"dataframe\">\n",
       "  <thead>\n",
       "    <tr style=\"text-align: right;\">\n",
       "      <th></th>\n",
       "      <th>id</th>\n",
       "      <th>user</th>\n",
       "      <th>fullname</th>\n",
       "      <th>url</th>\n",
       "      <th>timestamp</th>\n",
       "      <th>replies</th>\n",
       "      <th>likes</th>\n",
       "      <th>retweets</th>\n",
       "      <th>text\\r</th>\n",
       "    </tr>\n",
       "  </thead>\n",
       "  <tbody>\n",
       "    <tr>\n",
       "      <th>11291156</th>\n",
       "      <td>3.286741e+07</td>\n",
       "      <td>chrispychong</td>\n",
       "      <td>chrispy</td>\n",
       "      <td>NaN</td>\n",
       "      <td>2007-04-19 07:14:38+00:00</td>\n",
       "      <td>0</td>\n",
       "      <td>0</td>\n",
       "      <td>2</td>\n",
       "      <td>is happily mugging at BTC where she will hook ...</td>\n",
       "    </tr>\n",
       "    <tr>\n",
       "      <th>21</th>\n",
       "      <td>1.110303e+09</td>\n",
       "      <td>halfin</td>\n",
       "      <td>halfin</td>\n",
       "      <td>NaN</td>\n",
       "      <td>2009-01-11 03:33:52+00:00</td>\n",
       "      <td>790</td>\n",
       "      <td>14470</td>\n",
       "      <td>5542</td>\n",
       "      <td>Running bitcoin\\r</td>\n",
       "    </tr>\n",
       "    <tr>\n",
       "      <th>5164467</th>\n",
       "      <td>1.136750e+09</td>\n",
       "      <td>halfin</td>\n",
       "      <td>halfin</td>\n",
       "      <td>NaN</td>\n",
       "      <td>2009-01-21 17:29:40+00:00</td>\n",
       "      <td>55</td>\n",
       "      <td>1544</td>\n",
       "      <td>392</td>\n",
       "      <td>Looking at ways to add more anonymity to bitco...</td>\n",
       "    </tr>\n",
       "    <tr>\n",
       "      <th>5210398</th>\n",
       "      <td>1.153097e+09</td>\n",
       "      <td>halfin</td>\n",
       "      <td>halfin</td>\n",
       "      <td>NaN</td>\n",
       "      <td>2009-01-27 20:14:10+00:00</td>\n",
       "      <td>44</td>\n",
       "      <td>1042</td>\n",
       "      <td>277</td>\n",
       "      <td>Thinking about how to reduce CO2 emissions fro...</td>\n",
       "    </tr>\n",
       "    <tr>\n",
       "      <th>5269667</th>\n",
       "      <td>1.158417e+09</td>\n",
       "      <td>fafcffacfff</td>\n",
       "      <td>GoldLover</td>\n",
       "      <td>NaN</td>\n",
       "      <td>2009-01-29 13:37:53+00:00</td>\n",
       "      <td>0</td>\n",
       "      <td>28</td>\n",
       "      <td>16</td>\n",
       "      <td>From: Satoshi Nakamoto - 2009-01-11 22:32 Bitc...</td>\n",
       "    </tr>\n",
       "    <tr>\n",
       "      <th>...</th>\n",
       "      <td>...</td>\n",
       "      <td>...</td>\n",
       "      <td>...</td>\n",
       "      <td>...</td>\n",
       "      <td>...</td>\n",
       "      <td>...</td>\n",
       "      <td>...</td>\n",
       "      <td>...</td>\n",
       "      <td>...</td>\n",
       "    </tr>\n",
       "    <tr>\n",
       "      <th>16889757</th>\n",
       "      <td>1.198266e+18</td>\n",
       "      <td>theautomatski</td>\n",
       "      <td>Automatski</td>\n",
       "      <td>NaN</td>\n",
       "      <td>2019-11-23 15:45:53+00:00</td>\n",
       "      <td>0</td>\n",
       "      <td>0</td>\n",
       "      <td>0</td>\n",
       "      <td>The Worlds First Millennium Firm https://t.co/...</td>\n",
       "    </tr>\n",
       "    <tr>\n",
       "      <th>16889759</th>\n",
       "      <td>1.198266e+18</td>\n",
       "      <td>digital_mine_</td>\n",
       "      <td>digital mine ⚡🤖👨‍💻🇭🇰🇭🇰🇭🇰</td>\n",
       "      <td>NaN</td>\n",
       "      <td>2019-11-23 15:45:55+00:00</td>\n",
       "      <td>0</td>\n",
       "      <td>0</td>\n",
       "      <td>0</td>\n",
       "      <td>Daily profit for HODLING BTC since 2013 Data t...</td>\n",
       "    </tr>\n",
       "    <tr>\n",
       "      <th>16889761</th>\n",
       "      <td>1.198266e+18</td>\n",
       "      <td>Vizique</td>\n",
       "      <td>Vizique</td>\n",
       "      <td>NaN</td>\n",
       "      <td>2019-11-23 15:45:55+00:00</td>\n",
       "      <td>0</td>\n",
       "      <td>0</td>\n",
       "      <td>0</td>\n",
       "      <td>Bitcoin Suisse Certificates :) https://t.co/nd...</td>\n",
       "    </tr>\n",
       "    <tr>\n",
       "      <th>16889762</th>\n",
       "      <td>1.198266e+18</td>\n",
       "      <td>torusJKL</td>\n",
       "      <td>Gal Buki ($torusJKL)</td>\n",
       "      <td>NaN</td>\n",
       "      <td>2019-11-23 15:45:56+00:00</td>\n",
       "      <td>0</td>\n",
       "      <td>0</td>\n",
       "      <td>0</td>\n",
       "      <td>Register now for the early access of the Codug...</td>\n",
       "    </tr>\n",
       "    <tr>\n",
       "      <th>16889763</th>\n",
       "      <td>1.198266e+18</td>\n",
       "      <td>Adekunl95628158</td>\n",
       "      <td>Adekunle Daniel</td>\n",
       "      <td>NaN</td>\n",
       "      <td>2019-11-23 15:45:57+00:00</td>\n",
       "      <td>0</td>\n",
       "      <td>0</td>\n",
       "      <td>0</td>\n",
       "      <td>@btc \\n@btc \\nDo you know that BTC Baskets isn...</td>\n",
       "    </tr>\n",
       "  </tbody>\n",
       "</table>\n",
       "<p>16889765 rows × 9 columns</p>\n",
       "</div>"
      ]
     },
     "execution_count": 11,
     "metadata": {},
     "output_type": "execute_result"
    }
   ],
   "execution_count": 11
  },
  {
   "metadata": {
    "ExecuteTime": {
     "end_time": "2024-11-28T14:57:29.185483Z",
     "start_time": "2024-11-28T14:56:32.940650Z"
    }
   },
   "cell_type": "code",
   "source": "metrics_stats = tweets.performance_distribution()",
   "id": "b4f0662d64b214a1",
   "outputs": [
    {
     "data": {
      "text/plain": [
       "<Figure size 800x1200 with 3 Axes>"
      ],
      "image/png": "[encoded data removed]"
     },
     "metadata": {},
     "output_type": "display_data"
    }
   ],
   "execution_count": 12
  },
  {
   "metadata": {},
   "cell_type": "markdown",
   "source": "",
   "id": "d4baed332e5ed785"
  },
  {
   "metadata": {},
   "cell_type": "markdown",
   "source": [
    "We only keep the tweets in the tweets in the same time window as the BTC dataset.\n",
    "\n",
    "The rest of the tweets can be used to check how influencial a user is."
   ],
   "id": "ef47f631a3451a58"
  },
  {
   "metadata": {
    "ExecuteTime": {
     "end_time": "2024-11-28T15:25:29.125241Z",
     "start_time": "2024-11-28T15:24:53.387091Z"
    }
   },
   "cell_type": "code",
   "source": [
    "start = price.data.loc[0, \"open_time\"]\n",
    "end = tweets.data.iloc[-1][\"timestamp\"]\n",
    "filtered_prices = price.data[(price.data['open_time']>=start) & (price.data['open_time']<=end)]\n",
    "filtered_tweets = tweets.data[(tweets.data['timestamp']>=start) & (tweets.data['timestamp']<=end)]"
   ],
   "id": "2aa23e8a765a5641",
   "outputs": [],
   "execution_count": 37
  },
  {
   "metadata": {
    "ExecuteTime": {
     "end_time": "2024-11-28T15:32:02.684758Z",
     "start_time": "2024-11-28T15:32:02.637514Z"
    }
   },
   "cell_type": "code",
   "source": "print(\"We are lefet with BTC-USDT prices from\",filtered_prices['open_time'].min(),\"to\",filtered_prices['open_time'].max())",
   "id": "6cd5a9cf43b1f1f",
   "outputs": [
    {
     "name": "stdout",
     "output_type": "stream",
     "text": [
      "We are lefet with BTC-USDT prices from 2017-08-17 04:00:00+00:00 to 2019-11-23 15:45:00+00:00\n"
     ]
    }
   ],
   "execution_count": 42
  },
  {
   "metadata": {
    "ExecuteTime": {
     "end_time": "2024-11-28T15:33:03.517595Z",
     "start_time": "2024-11-28T15:33:02.789487Z"
    }
   },
   "cell_type": "code",
   "source": "print(\"We are lefet with BTC Tweets from\",filtered_tweets['timestamp'].min(),\"to\",filtered_tweets['timestamp'].max())",
   "id": "153c5d38509a8082",
   "outputs": [
    {
     "name": "stdout",
     "output_type": "stream",
     "text": [
      "We are lefet with BTC Tweets from 2017-08-17 04:00:01+00:00 to 2019-11-23 15:45:57+00:00\n"
     ]
    }
   ],
   "execution_count": 43
  },
  {
   "metadata": {
    "ExecuteTime": {
     "end_time": "2024-11-28T15:44:13.610205Z",
     "start_time": "2024-11-28T15:44:13.508552Z"
    }
   },
   "cell_type": "code",
   "source": [
    "interval_in_days = filtered_tweets['timestamp'].max()-filtered_tweets['timestamp'].min()\n",
    "interval_in_years = round(interval_in_days.days/365, 2)\n",
    "print(\"We are working with a time interval of\", interval_in_days.days,\"days or, equivalently,\", interval_in_years,\"years\")"
   ],
   "id": "93863c450d8d52f",
   "outputs": [
    {
     "name": "stdout",
     "output_type": "stream",
     "text": [
      "We are working with a time interval of 828 days or, equivalently, 2.27 years\n"
     ]
    }
   ],
   "execution_count": 67
  },
  {
   "metadata": {},
   "cell_type": "markdown",
   "source": "",
   "id": "ba0c04922f930b95"
  }
 ],
 "metadata": {
  "kernelspec": {
   "display_name": "Python 3",
   "language": "python",
   "name": "python3"
  },
  "language_info": {
   "codemirror_mode": {
    "name": "ipython",
    "version": 2
   },
   "file_extension": ".py",
   "mimetype": "text/x-python",
   "name": "python",
   "nbconvert_exporter": "python",
   "pygments_lexer": "ipython2",
   "version": "2.7.6"
  }
 },
 "nbformat": 4,
 "nbformat_minor": 5
}
